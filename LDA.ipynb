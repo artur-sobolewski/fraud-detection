{
 "cells": [
  {
   "cell_type": "code",
   "execution_count": 2,
   "id": "f32688c8",
   "metadata": {},
   "outputs": [],
   "source": [
    "import pandas as pd\n",
    "import numpy as np\n",
    "import matplotlib.pyplot as plt\n",
    "\n",
    "from sklearn.model_selection import train_test_split\n",
    "from sklearn.discriminant_analysis import LinearDiscriminantAnalysis\n",
    "\n",
    "from sklearn.metrics import confusion_matrix\n",
    "from sklearn.metrics import roc_auc_score\n",
    "from sklearn.metrics import make_scorer\n",
    "\n",
    "from sklearn.model_selection import GridSearchCV\n",
    "\n",
    "\n",
    "from sklearn.preprocessing import StandardScaler\n",
    "\n",
    "\n",
    "seed = 331"
   ]
  },
  {
   "cell_type": "code",
   "execution_count": 71,
   "id": "568a6073",
   "metadata": {},
   "outputs": [],
   "source": [
    "def resultPlot(x_name, x, fnr, fpr, roc_auc, sensitivities, specificities, scale=1, marker=None):\n",
    "    fig = plt.figure(figsize = (5, 5))\n",
    "    \n",
    "    colors = ['r', 'g', 'b', 'c', 'm']\n",
    "\n",
    "    plt.plot(x, fnr, color=colors[0], marker=marker, label ='FNR')\n",
    "    plt.plot(x, fpr, color=colors[1], marker=marker, label ='FPR')\n",
    "    plt.plot(x, roc_auc, color=colors[2], marker=marker, label ='ROC AUC')\n",
    "    plt.plot(x, sensitivities, color=colors[3], marker=marker, label ='Sensitivity')\n",
    "    plt.plot(x, specificities, color=colors[4], marker=marker, label ='Specificity')\n",
    "\n",
    "    # # Adding Xticks\n",
    "    plt.xlabel(x_name, fontweight ='bold', fontsize = 15)\n",
    "    plt.ylabel('Value', fontweight ='bold', fontsize = 15)\n",
    "    if scale > 1:\n",
    "        plt.xticks([x[i] for i in range(0,len(x),scale)])\n",
    "    else:\n",
    "        plt.xticks(x)\n",
    "\n",
    "    plt.grid()\n",
    "    plt.legend(bbox_to_anchor=(1.04, 1), loc=\"upper left\", borderaxespad=0.)\n",
    "    plt.show()"
   ]
  },
  {
   "cell_type": "code",
   "execution_count": 3,
   "id": "9915f94c",
   "metadata": {},
   "outputs": [],
   "source": [
    "def fnr_calc(y_test, y_pred):\n",
    "    tp, fn, fp, tn = confusion_matrix(y_test, y_pred, labels=[1,0]).ravel()\n",
    "    return fn / (fn + tp)\n",
    "\n",
    "def fpr_calc(y_test, y_pred):\n",
    "    tp, fn, fp, tn = confusion_matrix(y_test, y_pred, labels=[1,0]).ravel()\n",
    "    return fp / (fp + tn)\n",
    "\n",
    "\n",
    "\n",
    "def model_metrics(y_test, y_pred):\n",
    "    tp, fn, fp, tn = confusion_matrix(y_test, y_pred, labels=[1,0]).ravel()\n",
    "    \n",
    "    fnr = fn / (fn + tp)\n",
    "    fpr = fp / (fp + tn)\n",
    "    \n",
    "    roc_auc = roc_auc_score(y_test, y_pred)\n",
    "    \n",
    "    sensitivity = tp / (tp + fn)\n",
    "    specificity = tn / (tp + tn)\n",
    "    \n",
    "    return fnr, fpr, roc_auc, sensitivity, specificity"
   ]
  },
  {
   "cell_type": "markdown",
   "id": "019de5b3",
   "metadata": {},
   "source": [
    "# Data preparation"
   ]
  },
  {
   "cell_type": "code",
   "execution_count": 4,
   "id": "e60d7564",
   "metadata": {},
   "outputs": [
    {
     "data": {
      "text/html": [
       "<div>\n",
       "<style scoped>\n",
       "    .dataframe tbody tr th:only-of-type {\n",
       "        vertical-align: middle;\n",
       "    }\n",
       "\n",
       "    .dataframe tbody tr th {\n",
       "        vertical-align: top;\n",
       "    }\n",
       "\n",
       "    .dataframe thead th {\n",
       "        text-align: right;\n",
       "    }\n",
       "</style>\n",
       "<table border=\"1\" class=\"dataframe\">\n",
       "  <thead>\n",
       "    <tr style=\"text-align: right;\">\n",
       "      <th></th>\n",
       "      <th>Time</th>\n",
       "      <th>V1</th>\n",
       "      <th>V2</th>\n",
       "      <th>V3</th>\n",
       "      <th>V4</th>\n",
       "      <th>V5</th>\n",
       "      <th>V6</th>\n",
       "      <th>V7</th>\n",
       "      <th>V8</th>\n",
       "      <th>V9</th>\n",
       "      <th>...</th>\n",
       "      <th>V21</th>\n",
       "      <th>V22</th>\n",
       "      <th>V23</th>\n",
       "      <th>V24</th>\n",
       "      <th>V25</th>\n",
       "      <th>V26</th>\n",
       "      <th>V27</th>\n",
       "      <th>V28</th>\n",
       "      <th>Amount</th>\n",
       "      <th>Class</th>\n",
       "    </tr>\n",
       "  </thead>\n",
       "  <tbody>\n",
       "    <tr>\n",
       "      <th>0</th>\n",
       "      <td>0.0</td>\n",
       "      <td>-1.359807</td>\n",
       "      <td>-0.072781</td>\n",
       "      <td>2.536347</td>\n",
       "      <td>1.378155</td>\n",
       "      <td>-0.338321</td>\n",
       "      <td>0.462388</td>\n",
       "      <td>0.239599</td>\n",
       "      <td>0.098698</td>\n",
       "      <td>0.363787</td>\n",
       "      <td>...</td>\n",
       "      <td>-0.018307</td>\n",
       "      <td>0.277838</td>\n",
       "      <td>-0.110474</td>\n",
       "      <td>0.066928</td>\n",
       "      <td>0.128539</td>\n",
       "      <td>-0.189115</td>\n",
       "      <td>0.133558</td>\n",
       "      <td>-0.021053</td>\n",
       "      <td>149.62</td>\n",
       "      <td>0</td>\n",
       "    </tr>\n",
       "    <tr>\n",
       "      <th>1</th>\n",
       "      <td>0.0</td>\n",
       "      <td>1.191857</td>\n",
       "      <td>0.266151</td>\n",
       "      <td>0.166480</td>\n",
       "      <td>0.448154</td>\n",
       "      <td>0.060018</td>\n",
       "      <td>-0.082361</td>\n",
       "      <td>-0.078803</td>\n",
       "      <td>0.085102</td>\n",
       "      <td>-0.255425</td>\n",
       "      <td>...</td>\n",
       "      <td>-0.225775</td>\n",
       "      <td>-0.638672</td>\n",
       "      <td>0.101288</td>\n",
       "      <td>-0.339846</td>\n",
       "      <td>0.167170</td>\n",
       "      <td>0.125895</td>\n",
       "      <td>-0.008983</td>\n",
       "      <td>0.014724</td>\n",
       "      <td>2.69</td>\n",
       "      <td>0</td>\n",
       "    </tr>\n",
       "    <tr>\n",
       "      <th>2</th>\n",
       "      <td>1.0</td>\n",
       "      <td>-1.358354</td>\n",
       "      <td>-1.340163</td>\n",
       "      <td>1.773209</td>\n",
       "      <td>0.379780</td>\n",
       "      <td>-0.503198</td>\n",
       "      <td>1.800499</td>\n",
       "      <td>0.791461</td>\n",
       "      <td>0.247676</td>\n",
       "      <td>-1.514654</td>\n",
       "      <td>...</td>\n",
       "      <td>0.247998</td>\n",
       "      <td>0.771679</td>\n",
       "      <td>0.909412</td>\n",
       "      <td>-0.689281</td>\n",
       "      <td>-0.327642</td>\n",
       "      <td>-0.139097</td>\n",
       "      <td>-0.055353</td>\n",
       "      <td>-0.059752</td>\n",
       "      <td>378.66</td>\n",
       "      <td>0</td>\n",
       "    </tr>\n",
       "    <tr>\n",
       "      <th>3</th>\n",
       "      <td>1.0</td>\n",
       "      <td>-0.966272</td>\n",
       "      <td>-0.185226</td>\n",
       "      <td>1.792993</td>\n",
       "      <td>-0.863291</td>\n",
       "      <td>-0.010309</td>\n",
       "      <td>1.247203</td>\n",
       "      <td>0.237609</td>\n",
       "      <td>0.377436</td>\n",
       "      <td>-1.387024</td>\n",
       "      <td>...</td>\n",
       "      <td>-0.108300</td>\n",
       "      <td>0.005274</td>\n",
       "      <td>-0.190321</td>\n",
       "      <td>-1.175575</td>\n",
       "      <td>0.647376</td>\n",
       "      <td>-0.221929</td>\n",
       "      <td>0.062723</td>\n",
       "      <td>0.061458</td>\n",
       "      <td>123.50</td>\n",
       "      <td>0</td>\n",
       "    </tr>\n",
       "    <tr>\n",
       "      <th>4</th>\n",
       "      <td>2.0</td>\n",
       "      <td>-1.158233</td>\n",
       "      <td>0.877737</td>\n",
       "      <td>1.548718</td>\n",
       "      <td>0.403034</td>\n",
       "      <td>-0.407193</td>\n",
       "      <td>0.095921</td>\n",
       "      <td>0.592941</td>\n",
       "      <td>-0.270533</td>\n",
       "      <td>0.817739</td>\n",
       "      <td>...</td>\n",
       "      <td>-0.009431</td>\n",
       "      <td>0.798278</td>\n",
       "      <td>-0.137458</td>\n",
       "      <td>0.141267</td>\n",
       "      <td>-0.206010</td>\n",
       "      <td>0.502292</td>\n",
       "      <td>0.219422</td>\n",
       "      <td>0.215153</td>\n",
       "      <td>69.99</td>\n",
       "      <td>0</td>\n",
       "    </tr>\n",
       "  </tbody>\n",
       "</table>\n",
       "<p>5 rows × 31 columns</p>\n",
       "</div>"
      ],
      "text/plain": [
       "   Time        V1        V2        V3        V4        V5        V6        V7  \\\n",
       "0   0.0 -1.359807 -0.072781  2.536347  1.378155 -0.338321  0.462388  0.239599   \n",
       "1   0.0  1.191857  0.266151  0.166480  0.448154  0.060018 -0.082361 -0.078803   \n",
       "2   1.0 -1.358354 -1.340163  1.773209  0.379780 -0.503198  1.800499  0.791461   \n",
       "3   1.0 -0.966272 -0.185226  1.792993 -0.863291 -0.010309  1.247203  0.237609   \n",
       "4   2.0 -1.158233  0.877737  1.548718  0.403034 -0.407193  0.095921  0.592941   \n",
       "\n",
       "         V8        V9  ...       V21       V22       V23       V24       V25  \\\n",
       "0  0.098698  0.363787  ... -0.018307  0.277838 -0.110474  0.066928  0.128539   \n",
       "1  0.085102 -0.255425  ... -0.225775 -0.638672  0.101288 -0.339846  0.167170   \n",
       "2  0.247676 -1.514654  ...  0.247998  0.771679  0.909412 -0.689281 -0.327642   \n",
       "3  0.377436 -1.387024  ... -0.108300  0.005274 -0.190321 -1.175575  0.647376   \n",
       "4 -0.270533  0.817739  ... -0.009431  0.798278 -0.137458  0.141267 -0.206010   \n",
       "\n",
       "        V26       V27       V28  Amount  Class  \n",
       "0 -0.189115  0.133558 -0.021053  149.62      0  \n",
       "1  0.125895 -0.008983  0.014724    2.69      0  \n",
       "2 -0.139097 -0.055353 -0.059752  378.66      0  \n",
       "3 -0.221929  0.062723  0.061458  123.50      0  \n",
       "4  0.502292  0.219422  0.215153   69.99      0  \n",
       "\n",
       "[5 rows x 31 columns]"
      ]
     },
     "execution_count": 4,
     "metadata": {},
     "output_type": "execute_result"
    }
   ],
   "source": [
    "dataframe = pd.read_csv(\"./data/creditcard.csv\")\n",
    "\n",
    "columns = dataframe.columns.drop('Class')\n",
    "\n",
    "dataframe.head(5)"
   ]
  },
  {
   "cell_type": "code",
   "execution_count": 5,
   "id": "0e37a81c",
   "metadata": {},
   "outputs": [],
   "source": [
    "scaled_dataframe = dataframe.copy().drop(['Class'],axis=1)\n",
    "\n",
    "transformer = StandardScaler()\n",
    "\n",
    "transformer.fit(scaled_dataframe)\n",
    "\n",
    "scaled_dataframe = transformer.transform(scaled_dataframe)\n",
    "scaled_dataframe = pd.DataFrame(scaled_dataframe, columns=columns)"
   ]
  },
  {
   "cell_type": "code",
   "execution_count": 6,
   "id": "09c86f9b",
   "metadata": {},
   "outputs": [
    {
     "name": "stdout",
     "output_type": "stream",
     "text": [
      "train rows: 190820, test rows: 93987\n"
     ]
    }
   ],
   "source": [
    "X = scaled_dataframe\n",
    "y = dataframe.Class\n",
    "\n",
    "X_train, X_test, y_train, y_test = train_test_split(X,y,random_state=seed, test_size=0.33)\n",
    "\n",
    "print(\"train rows: {}, test rows: {}\".format(X_train.shape[0], X_test.shape[0]))"
   ]
  },
  {
   "cell_type": "markdown",
   "id": "04123954",
   "metadata": {},
   "source": [
    "# Testing LDA classifier"
   ]
  },
  {
   "cell_type": "code",
   "execution_count": 7,
   "id": "d7853507",
   "metadata": {},
   "outputs": [
    {
     "data": {
      "text/plain": [
       "0.9995318501494888"
      ]
     },
     "execution_count": 7,
     "metadata": {},
     "output_type": "execute_result"
    }
   ],
   "source": [
    "lda = LinearDiscriminantAnalysis()\n",
    "lda.fit(X_train,y_train)\n",
    "\n",
    "lda.score(X_test, y_test)"
   ]
  },
  {
   "cell_type": "code",
   "execution_count": 8,
   "id": "f650846d",
   "metadata": {},
   "outputs": [],
   "source": [
    "y_pred = lda.predict(X_test)"
   ]
  },
  {
   "cell_type": "code",
   "execution_count": 9,
   "id": "50aeaba0",
   "metadata": {},
   "outputs": [
    {
     "data": {
      "text/plain": [
       "array([[  128,    29],\n",
       "       [   15, 93815]], dtype=int64)"
      ]
     },
     "execution_count": 9,
     "metadata": {},
     "output_type": "execute_result"
    }
   ],
   "source": [
    "cm = confusion_matrix(y_test, y_pred, labels=[1,0])\n",
    "cm"
   ]
  },
  {
   "cell_type": "code",
   "execution_count": 10,
   "id": "9806fe71",
   "metadata": {},
   "outputs": [
    {
     "name": "stdout",
     "output_type": "stream",
     "text": [
      "FNR = 18.4713%, FPR = 0.0160%\n",
      "ROC AUC = 90.7563\n",
      "sensitivity = 81.5287%, specificity = 99.8637%\n"
     ]
    }
   ],
   "source": [
    "fnr, fpr, roc_auc, sensitivity, specificity = model_metrics(y_test, y_pred)\n",
    "\n",
    "print(\"FNR = {:.4f}%, FPR = {:.4f}%\".format(fnr * 100, fpr * 100))\n",
    "print(\"ROC AUC = {:.4f}\".format(roc_auc * 100))\n",
    "print(\"sensitivity = {:.4f}%, specificity = {:.4f}%\".format(sensitivity * 100, specificity * 100))"
   ]
  },
  {
   "cell_type": "markdown",
   "id": "1febfbdd",
   "metadata": {},
   "source": [
    "## Testing other LDA settings"
   ]
  },
  {
   "cell_type": "code",
   "execution_count": 11,
   "id": "1f71adfb",
   "metadata": {},
   "outputs": [
    {
     "name": "stdout",
     "output_type": "stream",
     "text": [
      "0.18471337579617833 0.00015986358307577535 0.907563380310373 0.8152866242038217 0.998637471658346\n",
      "0.18471337579617833 0.00015986358307577535 0.907563380310373 0.8152866242038217 0.998637471658346\n",
      "0.18471337579617833 0.00015986358307577535 0.907563380310373 0.8152866242038217 0.998637471658346\n"
     ]
    }
   ],
   "source": [
    "solvers = ['svd', 'lsqr', 'eigen']\n",
    "\n",
    "fnrs_1 = []\n",
    "fprs_1 = []\n",
    "roc_aucs_1 = []\n",
    "sensitivities_1 = []\n",
    "specificities_1 = []\n",
    "\n",
    "for solver in solvers:\n",
    "    lda = LinearDiscriminantAnalysis(solver=solver)\n",
    "    lda.fit(X_train, y_train)\n",
    "    y_pred = lda.predict(X_test)\n",
    "    fnr, fpr, roc_auc, sensitivity, specificity = model_metrics(y_test, y_pred)\n",
    "    fnrs_1.append(fnr)\n",
    "    fprs_1.append(fpr)\n",
    "    roc_aucs_1.append(roc_auc)\n",
    "    sensitivities_1.append(sensitivity)\n",
    "    specificities_1.append(specificity)\n",
    "    print(fnr, fpr, roc_auc, sensitivity, specificity)\n",
    "\n"
   ]
  },
  {
   "cell_type": "code",
   "execution_count": 37,
   "id": "14420f84",
   "metadata": {},
   "outputs": [
    {
     "data": {
      "image/png": "[encoded data removed]",
      "text/plain": [
       "<Figure size 500x500 with 1 Axes>"
      ]
     },
     "metadata": {},
     "output_type": "display_data"
    }
   ],
   "source": [
    "resultPlot('Solver', solvers, fnrs_1, fprs_1, roc_aucs_1, sensitivities_1, specificities_1)"
   ]
  },
  {
   "cell_type": "code",
   "execution_count": 55,
   "id": "55d6e2b3",
   "metadata": {},
   "outputs": [],
   "source": [
    "shrinkage = np.arange(0, 1, 0.01)\n",
    "\n",
    "fnrs = []\n",
    "fprs = []\n",
    "roc_aucs = []\n",
    "sensitivities = []\n",
    "specificities = []\n",
    "\n",
    "for shr in shrinkage:\n",
    "    lda = LinearDiscriminantAnalysis(solver='lsqr', shrinkage=shr)\n",
    "    lda.fit(X_train, y_train)\n",
    "    y_pred = lda.predict(X_test)\n",
    "    fnr, fpr, roc_auc, sensitivity, specificity = model_metrics(y_test, y_pred)\n",
    "    fnrs.append(fnr)\n",
    "    fprs.append(fpr)\n",
    "    roc_aucs.append(roc_auc)\n",
    "    sensitivities.append(sensitivity)\n",
    "    specificities.append(specificity)\n"
   ]
  },
  {
   "cell_type": "code",
   "execution_count": 56,
   "id": "5ff1126b",
   "metadata": {},
   "outputs": [
    {
     "name": "stdout",
     "output_type": "stream",
     "text": [
      "FNR = 18.4713%, FPR = 0.0160%\n",
      "ROC AUC = 90.7563\n",
      "sensitivity = 81.5287%, specificity = 99.8637%\n",
      "Best shrinkage = 0.00\n"
     ]
    }
   ],
   "source": [
    "min_fnr = 100\n",
    "best_shrinkage = 0\n",
    "for i in range(len(fnrs)):\n",
    "    if (fprs[i] * 100 < 0.5 and fnrs[i] < min_fnr):\n",
    "        min_fnr = fnrs[i]\n",
    "        best_shrinkage = i\n",
    "        \n",
    "print(\"FNR = {:.4f}%, FPR = {:.4f}%\".format(fnrs[best_shrinkage] * 100, fprs[best_shrinkage] * 100))\n",
    "print(\"ROC AUC = {:.4f}\".format(roc_aucs[best_shrinkage] * 100))\n",
    "print(\"sensitivity = {:.4f}%, specificity = {:.4f}%\".format(sensitivities[best_shrinkage] * 100, specificities[best_shrinkage] * 100))\n",
    "\n",
    "print(\"Best shrinkage = {:.2f}\".format(shrinkage[best_shrinkage]))\n",
    "\n",
    "best_shr = shrinkage[best_shrinkage]"
   ]
  },
  {
   "cell_type": "code",
   "execution_count": 79,
   "id": "54203e98",
   "metadata": {},
   "outputs": [
    {
     "data": {
      "image/png": "[encoded data removed]",
      "text/plain": [
       "<Figure size 500x500 with 1 Axes>"
      ]
     },
     "metadata": {},
     "output_type": "display_data"
    }
   ],
   "source": [
    "resultPlot('Shrinkage', shrinkage, fnrs, fprs, roc_aucs, sensitivities, specificities, scale=12)"
   ]
  },
  {
   "cell_type": "code",
   "execution_count": 58,
   "id": "7fe3d240",
   "metadata": {},
   "outputs": [],
   "source": [
    "shrinkage = np.arange(0, 1.01, 0.01)\n",
    "\n",
    "fnrs_2 = []\n",
    "fprs_2 = []\n",
    "roc_aucs_2 = []\n",
    "sensitivities_2 = []\n",
    "specificities_2 = []\n",
    "\n",
    "for shr in shrinkage:\n",
    "    lda = LinearDiscriminantAnalysis(solver='eigen', shrinkage=shr)\n",
    "    lda.fit(X_train, y_train)\n",
    "    y_pred = lda.predict(X_test)\n",
    "    fnr, fpr, roc_auc, sensitivity, specificity = model_metrics(y_test, y_pred)\n",
    "    fnrs_2.append(fnr)\n",
    "    fprs_2.append(fpr)\n",
    "    roc_aucs_2.append(roc_auc)\n",
    "    sensitivities_2.append(sensitivity)\n",
    "    specificities_2.append(specificity)"
   ]
  },
  {
   "cell_type": "code",
   "execution_count": 81,
   "id": "04e88826",
   "metadata": {},
   "outputs": [
    {
     "data": {
      "image/png": "[encoded data removed]",
      "text/plain": [
       "<Figure size 500x500 with 1 Axes>"
      ]
     },
     "metadata": {},
     "output_type": "display_data"
    }
   ],
   "source": [
    "resultPlot('Shrinkage', shrinkage, fnrs_2, fprs_2, roc_aucs_2, sensitivities_2, specificities_2, scale=10)"
   ]
  },
  {
   "cell_type": "markdown",
   "id": "c818dc1d",
   "metadata": {},
   "source": [
    "#  Balancing Classes"
   ]
  },
  {
   "cell_type": "markdown",
   "id": "ac2aa23f",
   "metadata": {},
   "source": [
    "### Random under-sampling"
   ]
  },
  {
   "cell_type": "code",
   "execution_count": 18,
   "id": "cadaa114",
   "metadata": {},
   "outputs": [],
   "source": [
    "from imblearn.under_sampling import RandomUnderSampler"
   ]
  },
  {
   "cell_type": "code",
   "execution_count": 19,
   "id": "6e7ccf88",
   "metadata": {},
   "outputs": [
    {
     "name": "stdout",
     "output_type": "stream",
     "text": [
      "0    335\n",
      "1    335\n",
      "Name: Class, dtype: int64\n"
     ]
    }
   ],
   "source": [
    "undersampled_0_dataframe = RandomUnderSampler(random_state=seed).fit_resample(X_train, y_train)\n",
    "\n",
    "X_train_und, y_train_und = undersampled_0_dataframe\n",
    "\n",
    "print(y_train_und.value_counts())"
   ]
  },
  {
   "cell_type": "code",
   "execution_count": 20,
   "id": "d69101ad",
   "metadata": {},
   "outputs": [
    {
     "data": {
      "text/plain": [
       "array([[  138,    19],\n",
       "       [ 2657, 91173]], dtype=int64)"
      ]
     },
     "execution_count": 20,
     "metadata": {},
     "output_type": "execute_result"
    }
   ],
   "source": [
    "lda = LinearDiscriminantAnalysis(solver='lsqr', shrinkage=best_shr)\n",
    "lda.fit(X_train_und, y_train_und)\n",
    "\n",
    "y_pred_und = lda.predict(X_test)\n",
    "\n",
    "\n",
    "cm = confusion_matrix(y_test, y_pred_und, labels=[1,0])\n",
    "cm"
   ]
  },
  {
   "cell_type": "code",
   "execution_count": 21,
   "id": "eefc4a82",
   "metadata": {},
   "outputs": [
    {
     "name": "stdout",
     "output_type": "stream",
     "text": [
      "FNR = 12.1019%, FPR = 2.8317%\n",
      "ROC AUC = 92.5332\n",
      "sensitivity = 87.8981%, specificity = 99.8489%\n"
     ]
    }
   ],
   "source": [
    "fnr_und, fpr_und, roc_auc_und, sensitivity_und, specificity_und = model_metrics(y_test, y_pred_und)\n",
    "\n",
    "print(\"FNR = {:.4f}%, FPR = {:.4f}%\".format(fnr_und * 100, fpr_und * 100))\n",
    "print(\"ROC AUC = {:.4f}\".format(roc_auc_und * 100))\n",
    "print(\"sensitivity = {:.4f}%, specificity = {:.4f}%\".format(sensitivity_und * 100, specificity_und * 100))"
   ]
  },
  {
   "cell_type": "markdown",
   "id": "f0fec9a5",
   "metadata": {},
   "source": [
    "### Conclusions\n",
    "FPR over threshold 0.5%\n",
    "\n",
    "### Random over-sampling"
   ]
  },
  {
   "cell_type": "code",
   "execution_count": 22,
   "id": "8199f2e8",
   "metadata": {},
   "outputs": [],
   "source": [
    "from imblearn.over_sampling  import RandomOverSampler\n"
   ]
  },
  {
   "cell_type": "code",
   "execution_count": 23,
   "id": "f0fd1dd4",
   "metadata": {},
   "outputs": [
    {
     "name": "stdout",
     "output_type": "stream",
     "text": [
      "0    190485\n",
      "1    190485\n",
      "Name: Class, dtype: int64\n"
     ]
    }
   ],
   "source": [
    "oversampled_1_dataframe = RandomOverSampler(random_state=seed).fit_resample(X_train, y_train)\n",
    "\n",
    "X_train_ov, y_train_ov = oversampled_1_dataframe\n",
    "\n",
    "print(y_train_ov.value_counts())"
   ]
  },
  {
   "cell_type": "code",
   "execution_count": 24,
   "id": "bb1b79b6",
   "metadata": {},
   "outputs": [
    {
     "data": {
      "text/plain": [
       "array([[  138,    19],\n",
       "       [ 1671, 92159]], dtype=int64)"
      ]
     },
     "execution_count": 24,
     "metadata": {},
     "output_type": "execute_result"
    }
   ],
   "source": [
    "lda = LinearDiscriminantAnalysis(solver='lsqr', shrinkage=best_shr)\n",
    "lda.fit(X_train_ov, y_train_ov)\n",
    "\n",
    "y_pred_ov = lda.predict(X_test)\n",
    "\n",
    "\n",
    "cm = confusion_matrix(y_test, y_pred_ov, labels=[1,0])\n",
    "cm"
   ]
  },
  {
   "cell_type": "code",
   "execution_count": 25,
   "id": "fc7f21fb",
   "metadata": {},
   "outputs": [
    {
     "name": "stdout",
     "output_type": "stream",
     "text": [
      "FNR = 12.1019%, FPR = 1.7809%\n",
      "ROC AUC = 93.0586\n",
      "sensitivity = 87.8981%, specificity = 99.8505%\n"
     ]
    }
   ],
   "source": [
    "fnr_ov, fpr_ov, roc_auc_ov, sensitivity_ov, specificity_ov = model_metrics(y_test, y_pred_ov)\n",
    "\n",
    "print(\"FNR = {:.4f}%, FPR = {:.4f}%\".format(fnr_ov * 100, fpr_ov * 100))\n",
    "print(\"ROC AUC = {:.4f}\".format(roc_auc_ov * 100))\n",
    "print(\"sensitivity = {:.4f}%, specificity = {:.4f}%\".format(sensitivity_ov * 100, specificity_ov * 100))"
   ]
  },
  {
   "cell_type": "markdown",
   "id": "fd8a98dd",
   "metadata": {},
   "source": [
    "### Conclusions\n",
    "\n",
    "\n",
    "### Smote"
   ]
  },
  {
   "cell_type": "code",
   "execution_count": 26,
   "id": "64a463db",
   "metadata": {},
   "outputs": [],
   "source": [
    "from imblearn.over_sampling import  SMOTE"
   ]
  },
  {
   "cell_type": "code",
   "execution_count": 27,
   "id": "d748ba2c",
   "metadata": {},
   "outputs": [
    {
     "name": "stdout",
     "output_type": "stream",
     "text": [
      "0    190485\n",
      "1    190485\n",
      "Name: Class, dtype: int64\n"
     ]
    }
   ],
   "source": [
    "oversampled_0_SMOTE_dataframe = SMOTE(random_state=seed).fit_resample(X_train, y_train)\n",
    "\n",
    "X_train_ov_SMOTE, y_train_ov_SMOTE = oversampled_0_SMOTE_dataframe\n",
    "\n",
    "print(y_train_ov_SMOTE.value_counts())"
   ]
  },
  {
   "cell_type": "code",
   "execution_count": 28,
   "id": "4a3baf31",
   "metadata": {},
   "outputs": [
    {
     "data": {
      "text/plain": [
       "array([[  138,    19],\n",
       "       [ 1561, 92269]], dtype=int64)"
      ]
     },
     "execution_count": 28,
     "metadata": {},
     "output_type": "execute_result"
    }
   ],
   "source": [
    "lda = LinearDiscriminantAnalysis(solver='lsqr', shrinkage=best_shr)\n",
    "lda.fit(X_train_ov_SMOTE, y_train_ov_SMOTE)\n",
    "\n",
    "y_pred_ov_SMOTE = lda.predict(X_test)\n",
    "\n",
    "\n",
    "cm = confusion_matrix(y_test, y_pred_ov_SMOTE, labels=[1,0])\n",
    "cm"
   ]
  },
  {
   "cell_type": "code",
   "execution_count": 29,
   "id": "5ff1a0a1",
   "metadata": {},
   "outputs": [
    {
     "name": "stdout",
     "output_type": "stream",
     "text": [
      "FNR = 12.1019%, FPR = 1.6636%\n",
      "ROC AUC = 93.1172\n",
      "sensitivity = 87.8981%, specificity = 99.8507%\n"
     ]
    }
   ],
   "source": [
    "fnr_ov_SMOTE, fpr_ov_SMOTE, roc_auc_ov_SMOTE, sensitivity_ov_SMOTE, specificity_ov_SMOTE = model_metrics(y_test, y_pred_ov_SMOTE)\n",
    "\n",
    "print(\"FNR = {:.4f}%, FPR = {:.4f}%\".format(fnr_ov_SMOTE * 100, fpr_ov_SMOTE * 100))\n",
    "print(\"ROC AUC = {:.4f}\".format(roc_auc_ov_SMOTE * 100))\n",
    "print(\"sensitivity = {:.4f}%, specificity = {:.4f}%\".format(sensitivity_ov_SMOTE * 100, specificity_ov_SMOTE * 100))"
   ]
  },
  {
   "cell_type": "markdown",
   "id": "ce5e2924",
   "metadata": {},
   "source": [
    "### Conclusions\n",
    "\n",
    "\n",
    "### Cluster Centroids"
   ]
  },
  {
   "cell_type": "code",
   "execution_count": 60,
   "id": "e48fe108",
   "metadata": {},
   "outputs": [],
   "source": [
    "from imblearn.under_sampling import ClusterCentroids"
   ]
  },
  {
   "cell_type": "code",
   "execution_count": 61,
   "id": "dcd879a4",
   "metadata": {},
   "outputs": [
    {
     "name": "stderr",
     "output_type": "stream",
     "text": [
      "E:\\Projekty\\AiED\\Projekt\\venv\\lib\\site-packages\\sklearn\\cluster\\_kmeans.py:870: FutureWarning: The default value of `n_init` will change from 10 to 'auto' in 1.4. Set the value of `n_init` explicitly to suppress the warning\n",
      "  warnings.warn(\n"
     ]
    },
    {
     "name": "stdout",
     "output_type": "stream",
     "text": [
      "0    190485\n",
      "1    190485\n",
      "Name: Class, dtype: int64\n"
     ]
    }
   ],
   "source": [
    "oversampled_ClusterCentroids_dataframe = ClusterCentroids(random_state=seed).fit_resample(X_train, y_train)\n",
    "\n",
    "X_train_ov_ClusterCentroids, y_train_ov_ClusterCentroids = oversampled_ClusterCentroids_dataframe\n",
    "\n",
    "print(y_train_ov_SMOTETomek.value_counts())"
   ]
  },
  {
   "cell_type": "code",
   "execution_count": 62,
   "id": "23773d30",
   "metadata": {},
   "outputs": [
    {
     "data": {
      "text/plain": [
       "array([[  133,    24],\n",
       "       [ 3038, 90792]], dtype=int64)"
      ]
     },
     "execution_count": 62,
     "metadata": {},
     "output_type": "execute_result"
    }
   ],
   "source": [
    "lda = LinearDiscriminantAnalysis(solver='lsqr', shrinkage=best_shr)\n",
    "lda.fit(X_train_ov_ClusterCentroids, y_train_ov_ClusterCentroids)\n",
    "\n",
    "y_pred_ov_ClusterCentroids = lda.predict(X_test)\n",
    "\n",
    "\n",
    "cm = confusion_matrix(y_test, y_pred_ov_ClusterCentroids, labels=[1,0])\n",
    "cm"
   ]
  },
  {
   "cell_type": "code",
   "execution_count": 63,
   "id": "0061350c",
   "metadata": {},
   "outputs": [
    {
     "name": "stdout",
     "output_type": "stream",
     "text": [
      "FNR = 15.2866%, FPR = 3.2378%\n",
      "ROC AUC = 0.9074\n",
      "sensitivity = 84.7134%, specificity = 99.8537%\n"
     ]
    }
   ],
   "source": [
    "fnr_ov_ClusterCentroids, fpr_ov_ClusterCentroids, roc_auc_ov_ClusterCentroids, sensitivity_ov_ClusterCentroids, specificity_ov_ClusterCentroids = model_metrics(y_test, y_pred_ov_ClusterCentroids)\n",
    "\n",
    "print(\"FNR = {:.4f}%, FPR = {:.4f}%\".format(fnr_ov_ClusterCentroids * 100, fpr_ov_ClusterCentroids * 100))\n",
    "print(\"ROC AUC = {:.4f}\".format(roc_auc_ov_ClusterCentroids))\n",
    "print(\"sensitivity = {:.4f}%, specificity = {:.4f}%\".format(sensitivity_ov_ClusterCentroids * 100, specificity_ov_ClusterCentroids * 100))"
   ]
  }
 ],
 "metadata": {
  "kernelspec": {
   "display_name": "Python 3 (ipykernel)",
   "language": "python",
   "name": "python3"
  },
  "language_info": {
   "codemirror_mode": {
    "name": "ipython",
    "version": 3
   },
   "file_extension": ".py",
   "mimetype": "text/x-python",
   "name": "python",
   "nbconvert_exporter": "python",
   "pygments_lexer": "ipython3",
   "version": "3.8.10"
  }
 },
 "nbformat": 4,
 "nbformat_minor": 5
}
