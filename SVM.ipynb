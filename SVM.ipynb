{
 "cells": [
  {
   "cell_type": "code",
   "execution_count": 11,
   "id": "dcd406ee",
   "metadata": {},
   "outputs": [],
   "source": [
    "import pandas as pd\n",
    "import numpy as np\n",
    "import matplotlib.pyplot as plt\n",
    "\n",
    "from sklearn.model_selection import train_test_split\n",
    "from sklearn.svm import SVC\n",
    "from sklearn.pipeline import make_pipeline\n",
    "\n",
    "from sklearn.metrics import confusion_matrix\n",
    "from sklearn.metrics import roc_auc_score\n",
    "from sklearn.metrics import make_scorer\n",
    "\n",
    "from sklearn.preprocessing import StandardScaler\n",
    "\n",
    "\n",
    "seed = 331"
   ]
  },
  {
   "cell_type": "code",
   "execution_count": 30,
   "id": "7e78831b",
   "metadata": {},
   "outputs": [],
   "source": [
    "def resultPlot(x_name, x, fnr, fpr, roc_auc, sensitivities, specificities):\n",
    "    fig = plt.figure(figsize = (5, 5))\n",
    "\n",
    "    colors = ['r', 'g', 'b', 'c', 'm']\n",
    "\n",
    "    plt.plot(x, fnr, color=colors[0], marker='.', label ='FNR')\n",
    "    plt.plot(x, fpr, color=colors[1], marker='.', label ='FPR')\n",
    "    plt.plot(x, roc_auc, color=colors[2], marker='.', label ='ROC AUC')\n",
    "    plt.plot(x, sensitivities, color=colors[3], marker='.', label ='Sensitivity')\n",
    "    plt.plot(x, specificities, color=colors[4], marker='.', label ='Specificity')\n",
    "\n",
    "    # # Adding Xticks\n",
    "    plt.xlabel(x_name, fontweight ='bold', fontsize = 15)\n",
    "    plt.ylabel('Value', fontweight ='bold', fontsize = 15)\n",
    "    plt.xticks(x)\n",
    "\n",
    "    plt.grid()\n",
    "    plt.legend(bbox_to_anchor=(1.05, 1), loc=2, borderaxespad=0.)\n",
    "    plt.show()"
   ]
  },
  {
   "cell_type": "code",
   "execution_count": 2,
   "id": "a1429a3b",
   "metadata": {},
   "outputs": [],
   "source": [
    "def fnr_calc(y_test, y_pred):\n",
    "    tp, fn, fp, tn = confusion_matrix(y_test, y_pred, labels=[1,0]).ravel()\n",
    "    return fn / (fn + tp)\n",
    "\n",
    "def fpr_calc(y_test, y_pred):\n",
    "    tp, fn, fp, tn = confusion_matrix(y_test, y_pred, labels=[1,0]).ravel()\n",
    "    return fp / (fp + tn)\n",
    "\n",
    "\n",
    "\n",
    "def model_metrics(y_test, y_pred):\n",
    "    tp, fn, fp, tn = confusion_matrix(y_test, y_pred, labels=[1,0]).ravel()\n",
    "    \n",
    "    fnr = fn / (fn + tp)\n",
    "    fpr = fp / (fp + tn)\n",
    "    \n",
    "    roc_auc = roc_auc_score(y_test, y_pred)\n",
    "    \n",
    "    sensitivity = tp / (tp + fn)\n",
    "    specificity = tn / (tp + tn)\n",
    "    \n",
    "    return fnr, fpr, roc_auc, sensitivity, specificity"
   ]
  },
  {
   "cell_type": "markdown",
   "id": "7518cf14",
   "metadata": {},
   "source": [
    "# Data preparation"
   ]
  },
  {
   "cell_type": "code",
   "execution_count": 3,
   "id": "cdb33793",
   "metadata": {},
   "outputs": [
    {
     "data": {
      "text/html": [
       "<div>\n",
       "<style scoped>\n",
       "    .dataframe tbody tr th:only-of-type {\n",
       "        vertical-align: middle;\n",
       "    }\n",
       "\n",
       "    .dataframe tbody tr th {\n",
       "        vertical-align: top;\n",
       "    }\n",
       "\n",
       "    .dataframe thead th {\n",
       "        text-align: right;\n",
       "    }\n",
       "</style>\n",
       "<table border=\"1\" class=\"dataframe\">\n",
       "  <thead>\n",
       "    <tr style=\"text-align: right;\">\n",
       "      <th></th>\n",
       "      <th>Time</th>\n",
       "      <th>V1</th>\n",
       "      <th>V2</th>\n",
       "      <th>V3</th>\n",
       "      <th>V4</th>\n",
       "      <th>V5</th>\n",
       "      <th>V6</th>\n",
       "      <th>V7</th>\n",
       "      <th>V8</th>\n",
       "      <th>V9</th>\n",
       "      <th>...</th>\n",
       "      <th>V21</th>\n",
       "      <th>V22</th>\n",
       "      <th>V23</th>\n",
       "      <th>V24</th>\n",
       "      <th>V25</th>\n",
       "      <th>V26</th>\n",
       "      <th>V27</th>\n",
       "      <th>V28</th>\n",
       "      <th>Amount</th>\n",
       "      <th>Class</th>\n",
       "    </tr>\n",
       "  </thead>\n",
       "  <tbody>\n",
       "    <tr>\n",
       "      <th>0</th>\n",
       "      <td>0.0</td>\n",
       "      <td>-1.359807</td>\n",
       "      <td>-0.072781</td>\n",
       "      <td>2.536347</td>\n",
       "      <td>1.378155</td>\n",
       "      <td>-0.338321</td>\n",
       "      <td>0.462388</td>\n",
       "      <td>0.239599</td>\n",
       "      <td>0.098698</td>\n",
       "      <td>0.363787</td>\n",
       "      <td>...</td>\n",
       "      <td>-0.018307</td>\n",
       "      <td>0.277838</td>\n",
       "      <td>-0.110474</td>\n",
       "      <td>0.066928</td>\n",
       "      <td>0.128539</td>\n",
       "      <td>-0.189115</td>\n",
       "      <td>0.133558</td>\n",
       "      <td>-0.021053</td>\n",
       "      <td>149.62</td>\n",
       "      <td>0</td>\n",
       "    </tr>\n",
       "    <tr>\n",
       "      <th>1</th>\n",
       "      <td>0.0</td>\n",
       "      <td>1.191857</td>\n",
       "      <td>0.266151</td>\n",
       "      <td>0.166480</td>\n",
       "      <td>0.448154</td>\n",
       "      <td>0.060018</td>\n",
       "      <td>-0.082361</td>\n",
       "      <td>-0.078803</td>\n",
       "      <td>0.085102</td>\n",
       "      <td>-0.255425</td>\n",
       "      <td>...</td>\n",
       "      <td>-0.225775</td>\n",
       "      <td>-0.638672</td>\n",
       "      <td>0.101288</td>\n",
       "      <td>-0.339846</td>\n",
       "      <td>0.167170</td>\n",
       "      <td>0.125895</td>\n",
       "      <td>-0.008983</td>\n",
       "      <td>0.014724</td>\n",
       "      <td>2.69</td>\n",
       "      <td>0</td>\n",
       "    </tr>\n",
       "    <tr>\n",
       "      <th>2</th>\n",
       "      <td>1.0</td>\n",
       "      <td>-1.358354</td>\n",
       "      <td>-1.340163</td>\n",
       "      <td>1.773209</td>\n",
       "      <td>0.379780</td>\n",
       "      <td>-0.503198</td>\n",
       "      <td>1.800499</td>\n",
       "      <td>0.791461</td>\n",
       "      <td>0.247676</td>\n",
       "      <td>-1.514654</td>\n",
       "      <td>...</td>\n",
       "      <td>0.247998</td>\n",
       "      <td>0.771679</td>\n",
       "      <td>0.909412</td>\n",
       "      <td>-0.689281</td>\n",
       "      <td>-0.327642</td>\n",
       "      <td>-0.139097</td>\n",
       "      <td>-0.055353</td>\n",
       "      <td>-0.059752</td>\n",
       "      <td>378.66</td>\n",
       "      <td>0</td>\n",
       "    </tr>\n",
       "    <tr>\n",
       "      <th>3</th>\n",
       "      <td>1.0</td>\n",
       "      <td>-0.966272</td>\n",
       "      <td>-0.185226</td>\n",
       "      <td>1.792993</td>\n",
       "      <td>-0.863291</td>\n",
       "      <td>-0.010309</td>\n",
       "      <td>1.247203</td>\n",
       "      <td>0.237609</td>\n",
       "      <td>0.377436</td>\n",
       "      <td>-1.387024</td>\n",
       "      <td>...</td>\n",
       "      <td>-0.108300</td>\n",
       "      <td>0.005274</td>\n",
       "      <td>-0.190321</td>\n",
       "      <td>-1.175575</td>\n",
       "      <td>0.647376</td>\n",
       "      <td>-0.221929</td>\n",
       "      <td>0.062723</td>\n",
       "      <td>0.061458</td>\n",
       "      <td>123.50</td>\n",
       "      <td>0</td>\n",
       "    </tr>\n",
       "    <tr>\n",
       "      <th>4</th>\n",
       "      <td>2.0</td>\n",
       "      <td>-1.158233</td>\n",
       "      <td>0.877737</td>\n",
       "      <td>1.548718</td>\n",
       "      <td>0.403034</td>\n",
       "      <td>-0.407193</td>\n",
       "      <td>0.095921</td>\n",
       "      <td>0.592941</td>\n",
       "      <td>-0.270533</td>\n",
       "      <td>0.817739</td>\n",
       "      <td>...</td>\n",
       "      <td>-0.009431</td>\n",
       "      <td>0.798278</td>\n",
       "      <td>-0.137458</td>\n",
       "      <td>0.141267</td>\n",
       "      <td>-0.206010</td>\n",
       "      <td>0.502292</td>\n",
       "      <td>0.219422</td>\n",
       "      <td>0.215153</td>\n",
       "      <td>69.99</td>\n",
       "      <td>0</td>\n",
       "    </tr>\n",
       "  </tbody>\n",
       "</table>\n",
       "<p>5 rows × 31 columns</p>\n",
       "</div>"
      ],
      "text/plain": [
       "   Time        V1        V2        V3        V4        V5        V6        V7  \\\n",
       "0   0.0 -1.359807 -0.072781  2.536347  1.378155 -0.338321  0.462388  0.239599   \n",
       "1   0.0  1.191857  0.266151  0.166480  0.448154  0.060018 -0.082361 -0.078803   \n",
       "2   1.0 -1.358354 -1.340163  1.773209  0.379780 -0.503198  1.800499  0.791461   \n",
       "3   1.0 -0.966272 -0.185226  1.792993 -0.863291 -0.010309  1.247203  0.237609   \n",
       "4   2.0 -1.158233  0.877737  1.548718  0.403034 -0.407193  0.095921  0.592941   \n",
       "\n",
       "         V8        V9  ...       V21       V22       V23       V24       V25  \\\n",
       "0  0.098698  0.363787  ... -0.018307  0.277838 -0.110474  0.066928  0.128539   \n",
       "1  0.085102 -0.255425  ... -0.225775 -0.638672  0.101288 -0.339846  0.167170   \n",
       "2  0.247676 -1.514654  ...  0.247998  0.771679  0.909412 -0.689281 -0.327642   \n",
       "3  0.377436 -1.387024  ... -0.108300  0.005274 -0.190321 -1.175575  0.647376   \n",
       "4 -0.270533  0.817739  ... -0.009431  0.798278 -0.137458  0.141267 -0.206010   \n",
       "\n",
       "        V26       V27       V28  Amount  Class  \n",
       "0 -0.189115  0.133558 -0.021053  149.62      0  \n",
       "1  0.125895 -0.008983  0.014724    2.69      0  \n",
       "2 -0.139097 -0.055353 -0.059752  378.66      0  \n",
       "3 -0.221929  0.062723  0.061458  123.50      0  \n",
       "4  0.502292  0.219422  0.215153   69.99      0  \n",
       "\n",
       "[5 rows x 31 columns]"
      ]
     },
     "execution_count": 3,
     "metadata": {},
     "output_type": "execute_result"
    }
   ],
   "source": [
    "dataframe = pd.read_csv(\"./data/creditcard.csv\")\n",
    "\n",
    "columns = dataframe.columns.drop('Class')\n",
    "\n",
    "dataframe.head(5)"
   ]
  },
  {
   "cell_type": "code",
   "execution_count": 4,
   "id": "1a26e3ac",
   "metadata": {},
   "outputs": [],
   "source": [
    "scaled_dataframe = dataframe.copy().drop(['Class'],axis=1)\n",
    "\n",
    "transformer = StandardScaler()\n",
    "\n",
    "transformer.fit(scaled_dataframe)\n",
    "\n",
    "scaled_dataframe = transformer.transform(scaled_dataframe)\n",
    "scaled_dataframe = pd.DataFrame(scaled_dataframe, columns=columns)"
   ]
  },
  {
   "cell_type": "code",
   "execution_count": 5,
   "id": "4f7648c0",
   "metadata": {},
   "outputs": [
    {
     "name": "stdout",
     "output_type": "stream",
     "text": [
      "train rows: 190820, test rows: 93987\n"
     ]
    }
   ],
   "source": [
    "X = scaled_dataframe\n",
    "y = dataframe.Class\n",
    "\n",
    "X_train, X_test, y_train, y_test = train_test_split(X,y,random_state=seed, test_size=0.33)\n",
    "\n",
    "print(\"train rows: {}, test rows: {}\".format(X_train.shape[0], X_test.shape[0]))"
   ]
  },
  {
   "cell_type": "markdown",
   "id": "9082a902",
   "metadata": {},
   "source": [
    "# Testing SVM classifier"
   ]
  },
  {
   "cell_type": "code",
   "execution_count": 18,
   "id": "31428294",
   "metadata": {},
   "outputs": [
    {
     "data": {
      "text/plain": [
       "0.99946801153351"
      ]
     },
     "execution_count": 18,
     "metadata": {},
     "output_type": "execute_result"
    }
   ],
   "source": [
    "svc = SVC(random_state=seed)\n",
    "# svc = make_pipeline(StandardScaler(), SVC(C=4., kernel='poly', max_iter=1000)) \n",
    "svc.fit(X_train, y_train)\n",
    "\n",
    "svc.score(X_test, y_test)"
   ]
  },
  {
   "cell_type": "code",
   "execution_count": 19,
   "id": "248274f2",
   "metadata": {},
   "outputs": [],
   "source": [
    "y_pred = svc.predict(X_test)"
   ]
  },
  {
   "cell_type": "code",
   "execution_count": 20,
   "id": "93de58a7",
   "metadata": {},
   "outputs": [
    {
     "data": {
      "text/plain": [
       "array([[  108,    49],\n",
       "       [    1, 93829]], dtype=int64)"
      ]
     },
     "execution_count": 20,
     "metadata": {},
     "output_type": "execute_result"
    }
   ],
   "source": [
    "cm = confusion_matrix(y_test, y_pred, labels=[1,0])\n",
    "cm"
   ]
  },
  {
   "cell_type": "code",
   "execution_count": 21,
   "id": "e7f5f091",
   "metadata": {},
   "outputs": [
    {
     "name": "stdout",
     "output_type": "stream",
     "text": [
      "FNR = 31.2102%, FPR = 0.0011%\n",
      "ROC AUC = 84.3944\n",
      "sensitivity = 68.7898%, specificity = 99.8850%\n"
     ]
    }
   ],
   "source": [
    "fnr, fpr, roc_auc, sensitivity, specificity = model_metrics(y_test, y_pred)\n",
    "\n",
    "print(\"FNR = {:.4f}%, FPR = {:.4f}%\".format(fnr * 100, fpr * 100))\n",
    "print(\"ROC AUC = {:.4f}\".format(roc_auc * 100))\n",
    "print(\"sensitivity = {:.4f}%, specificity = {:.4f}%\".format(sensitivity * 100, specificity * 100))"
   ]
  },
  {
   "cell_type": "markdown",
   "id": "44c31985",
   "metadata": {},
   "source": [
    "## Testing other SVM settings"
   ]
  },
  {
   "cell_type": "code",
   "execution_count": 26,
   "id": "a2a31126",
   "metadata": {},
   "outputs": [],
   "source": [
    "kernels = ['linear', 'rbf', 'poly']\n",
    "\n",
    "fnrs_1 = []\n",
    "fprs_1 = []\n",
    "roc_aucs_1 = []\n",
    "sensitivities_1 = []\n",
    "specificities_1 = []\n",
    "\n",
    "for kernel in kernels:\n",
    "    svc = SVC(kernel=kernel, random_state=seed)\n",
    "    svc.fit(X_train,y_train)\n",
    "    y_pred = svc.predict(X_test)\n",
    "    fnr, fpr, roc_auc, sensitivity, specificity = model_metrics(y_test, y_pred)\n",
    "    fnrs_1.append(fnr)\n",
    "    fprs_1.append(fpr)\n",
    "    roc_aucs_1.append(roc_auc)\n",
    "    sensitivities_1.append(sensitivity)\n",
    "    specificities_1.append(specificity)"
   ]
  },
  {
   "cell_type": "code",
   "execution_count": 28,
   "id": "d3fb2acf",
   "metadata": {},
   "outputs": [
    {
     "name": "stdout",
     "output_type": "stream",
     "text": [
      "FNR = 19.1083%, FPR = 0.0181%\n",
      "ROC AUC = 90.4368\n",
      "sensitivity = 80.8917%, specificity = 99.8648%\n",
      "Best kernel = linear\n"
     ]
    },
    {
     "data": {
      "text/plain": [
       "array([[  126,    31],\n",
       "       [   12, 93818]], dtype=int64)"
      ]
     },
     "execution_count": 28,
     "metadata": {},
     "output_type": "execute_result"
    }
   ],
   "source": [
    "min_fnr = 100\n",
    "best_param = 0\n",
    "for i in range(len(fnrs_1)):\n",
    "    if (fprs_1[i] * 100 < 0.5 and fnrs_1[i] < min_fnr):\n",
    "        min_fnr = fnrs_1[i]\n",
    "        best_param = i\n",
    "        \n",
    "print(\"FNR = {:.4f}%, FPR = {:.4f}%\".format(fnrs_1[best_param] * 100, fprs_1[best_param] * 100))\n",
    "print(\"ROC AUC = {:.4f}\".format(roc_aucs_1[best_param] * 100))\n",
    "print(\"sensitivity = {:.4f}%, specificity = {:.4f}%\".format(sensitivities_1[best_param] * 100, specificities_1[best_param] * 100))\n",
    "\n",
    "print(\"Best kernel = {}\".format(kernels[best_param]))\n",
    "\n",
    "best_p = kernels[best_param]\n",
    "\n",
    "svc = SVC(kernel=kernel, random_state=seed)\n",
    "svc.fit(X_train, y_train)\n",
    "y_pred_best = svc.predict(X_test)\n",
    "\n",
    "cm = confusion_matrix(y_test, y_pred_best, labels=[1,0])\n",
    "cm"
   ]
  },
  {
   "cell_type": "code",
   "execution_count": 31,
   "id": "6ed01a7b",
   "metadata": {},
   "outputs": [
    {
     "data": {
      "image/png": "[encoded data removed]",
      "text/plain": [
       "<Figure size 500x500 with 1 Axes>"
      ]
     },
     "metadata": {},
     "output_type": "display_data"
    }
   ],
   "source": [
    "resultPlot('kernel', kernels, fnrs_1, fprs_1, roc_aucs_1, sensitivities_1, specificities_1)"
   ]
  },
  {
   "cell_type": "code",
   "execution_count": 34,
   "id": "b4f9ae92",
   "metadata": {},
   "outputs": [],
   "source": [
    "degrees = np.linspace(1,6,6).astype(int)\n",
    "\n",
    "fnrs_2 = []\n",
    "fprs_2 = []\n",
    "roc_aucs_2 = []\n",
    "sensitivities_2 = []\n",
    "specificities_2 = []\n",
    "\n",
    "for degree in degrees:\n",
    "    svc = SVC(kernel='poly', degree=degree, random_state=seed)\n",
    "    svc.fit(X_train,y_train)\n",
    "    y_pred = svc.predict(X_test)\n",
    "    fnr, fpr, roc_auc, sensitivity, specificity = model_metrics(y_test, y_pred)\n",
    "    fnrs_2.append(fnr)\n",
    "    fprs_2.append(fpr)\n",
    "    roc_aucs_2.append(roc_auc)\n",
    "    sensitivities_2.append(sensitivity)\n",
    "    specificities_2.append(specificity)"
   ]
  },
  {
   "cell_type": "code",
   "execution_count": 35,
   "id": "09bd8ac8",
   "metadata": {},
   "outputs": [
    {
     "name": "stdout",
     "output_type": "stream",
     "text": [
      "FNR = 18.4713%, FPR = 0.0181%\n",
      "ROC AUC = 90.7553\n",
      "sensitivity = 81.5287%, specificity = 99.8637%\n",
      "Best degree = 1\n"
     ]
    },
    {
     "data": {
      "text/plain": [
       "array([[  128,    29],\n",
       "       [   17, 93813]], dtype=int64)"
      ]
     },
     "execution_count": 35,
     "metadata": {},
     "output_type": "execute_result"
    }
   ],
   "source": [
    "min_fnr = 100\n",
    "best_param = 0\n",
    "for i in range(len(fnrs_2)):\n",
    "    if (fprs_2[i] * 100 < 0.5 and fnrs_2[i] < min_fnr):\n",
    "        min_fnr = fnrs_2[i]\n",
    "        best_param = i\n",
    "        \n",
    "print(\"FNR = {:.4f}%, FPR = {:.4f}%\".format(fnrs_2[best_param] * 100, fprs_2[best_param] * 100))\n",
    "print(\"ROC AUC = {:.4f}\".format(roc_aucs_2[best_param] * 100))\n",
    "print(\"sensitivity = {:.4f}%, specificity = {:.4f}%\".format(sensitivities_2[best_param] * 100, specificities_2[best_param] * 100))\n",
    "\n",
    "print(\"Best degree = {}\".format(degrees[best_param]))\n",
    "\n",
    "best_p = degrees[best_param]\n",
    "\n",
    "svc = SVC(kernel='poly', degree=best_p, random_state=seed)\n",
    "svc.fit(X_train, y_train)\n",
    "y_pred_best = svc.predict(X_test)\n",
    "\n",
    "cm = confusion_matrix(y_test, y_pred_best, labels=[1,0])\n",
    "cm"
   ]
  },
  {
   "cell_type": "code",
   "execution_count": 39,
   "id": "dc283c21",
   "metadata": {},
   "outputs": [
    {
     "data": {
      "image/png": "[encoded data removed]",
      "text/plain": [
       "<Figure size 500x500 with 1 Axes>"
      ]
     },
     "metadata": {},
     "output_type": "display_data"
    }
   ],
   "source": [
    "resultPlot('degree', degrees, fnrs_2, fprs_2, roc_aucs_2, sensitivities_2, specificities_2)"
   ]
  },
  {
   "cell_type": "code",
   "execution_count": 47,
   "id": "a9be9b1e",
   "metadata": {},
   "outputs": [],
   "source": [
    "cs = [0.1, 1, 10, 100, 1000]\n",
    "\n",
    "fnrs_3 = []\n",
    "fprs_3 = []\n",
    "roc_aucs_3 = []\n",
    "sensitivities_3 = []\n",
    "specificities_3 = []\n",
    "\n",
    "for c in cs:\n",
    "    svc = SVC(kernel='poly', C=c, random_state=seed)\n",
    "    svc.fit(X_train,y_train)\n",
    "    y_pred = svc.predict(X_test)\n",
    "    fnr, fpr, roc_auc, sensitivity, specificity = model_metrics(y_test, y_pred)\n",
    "    fnrs_3.append(fnr)\n",
    "    fprs_3.append(fpr)\n",
    "    roc_aucs_3.append(roc_auc)\n",
    "    sensitivities_3.append(sensitivity)\n",
    "    specificities_3.append(specificity)"
   ]
  },
  {
   "cell_type": "code",
   "execution_count": 51,
   "id": "085f9d58",
   "metadata": {},
   "outputs": [
    {
     "name": "stdout",
     "output_type": "stream",
     "text": [
      "FNR = 19.1083%, FPR = 0.0171%\n",
      "ROC AUC = 90.4373\n",
      "sensitivity = 80.8917%, specificity = 99.8648%\n",
      "Best C = 10\n"
     ]
    },
    {
     "data": {
      "text/plain": [
       "array([[  127,    30],\n",
       "       [   16, 93814]], dtype=int64)"
      ]
     },
     "execution_count": 51,
     "metadata": {},
     "output_type": "execute_result"
    }
   ],
   "source": [
    "min_fnr = 100\n",
    "best_param = 0\n",
    "for i in range(len(fnrs_3)):\n",
    "    if (fprs_3[i] * 100 < 0.5 and fnrs_3[i] < min_fnr):\n",
    "        min_fnr = fnrs_3[i]\n",
    "        best_param = i\n",
    "        \n",
    "print(\"FNR = {:.4f}%, FPR = {:.4f}%\".format(fnrs_3[best_param] * 100, fprs_3[best_param] * 100))\n",
    "print(\"ROC AUC = {:.4f}\".format(roc_aucs_3[best_param] * 100))\n",
    "print(\"sensitivity = {:.4f}%, specificity = {:.4f}%\".format(sensitivities_3[best_param] * 100, specificities_3[best_param] * 100))\n",
    "\n",
    "print(\"Best C = {}\".format(cs[best_param]))\n",
    "\n",
    "best_p = cs[best_param]\n",
    "\n",
    "svc = SVC(kernel='poly', C=best_p, random_state=seed)\n",
    "svc.fit(X_train, y_train)\n",
    "y_pred_best = svc.predict(X_test)\n",
    "\n",
    "cm = confusion_matrix(y_test, y_pred_best, labels=[1,0])\n",
    "cm"
   ]
  },
  {
   "cell_type": "code",
   "execution_count": 50,
   "id": "4bfa009e",
   "metadata": {},
   "outputs": [
    {
     "data": {
      "image/png": "[encoded data removed]",
      "text/plain": [
       "<Figure size 500x500 with 1 Axes>"
      ]
     },
     "metadata": {},
     "output_type": "display_data"
    }
   ],
   "source": [
    "resultPlot('C', ['0.1', '1', '10', '100', '1000'], fnrs_3, fprs_3, roc_aucs_3, sensitivities_3, specificities_3)"
   ]
  }
 ],
 "metadata": {
  "kernelspec": {
   "display_name": "Python 3 (ipykernel)",
   "language": "python",
   "name": "python3"
  },
  "language_info": {
   "codemirror_mode": {
    "name": "ipython",
    "version": 3
   },
   "file_extension": ".py",
   "mimetype": "text/x-python",
   "name": "python",
   "nbconvert_exporter": "python",
   "pygments_lexer": "ipython3",
   "version": "3.8.10"
  }
 },
 "nbformat": 4,
 "nbformat_minor": 5
}
