{
 "cells": [
  {
   "cell_type": "code",
   "execution_count": 5,
   "id": "7d31b65a",
   "metadata": {},
   "outputs": [],
   "source": [
    "import pandas as pd\n",
    "import numpy as np\n",
    "import matplotlib.pyplot as plt\n",
    "\n",
    "from sklearn.model_selection import train_test_split\n",
    "from sklearn.ensemble import RandomForestClassifier\n",
    "\n",
    "from sklearn.metrics import confusion_matrix\n",
    "from sklearn.metrics import roc_auc_score\n",
    "from sklearn.metrics import make_scorer\n",
    "\n",
    "from sklearn.preprocessing import StandardScaler\n",
    "\n",
    "\n",
    "seed = 331"
   ]
  },
  {
   "cell_type": "code",
   "execution_count": 6,
   "id": "d37560e0",
   "metadata": {},
   "outputs": [],
   "source": [
    "def resultPlot(x_name, x, fnr, fpr, roc_auc, sensitivities, specificities, scale=1, marker=None, size=5):\n",
    "    fig = plt.figure(figsize = (size, 5))\n",
    "    \n",
    "    colors = ['r', 'g', 'b', 'c', 'm']\n",
    "\n",
    "    plt.plot(x, fnr, color=colors[0], marker=marker, label ='FNR')\n",
    "    plt.plot(x, fpr, color=colors[1], marker=marker, label ='FPR')\n",
    "    plt.plot(x, roc_auc, color=colors[2], marker=marker, label ='ROC AUC')\n",
    "    plt.plot(x, sensitivities, color=colors[3], marker=marker, label ='Sensitivity')\n",
    "    plt.plot(x, specificities, color=colors[4], marker=marker, label ='Specificity')\n",
    "\n",
    "    # # Adding Xticks\n",
    "    plt.xlabel(x_name, fontweight ='bold', fontsize = 15)\n",
    "    plt.ylabel('Value', fontweight ='bold', fontsize = 15)\n",
    "    if scale > 1:\n",
    "        plt.xticks([x[i] for i in range(0,len(x),scale)])\n",
    "    else:\n",
    "        plt.xticks(x)\n",
    "\n",
    "    plt.grid()\n",
    "    plt.legend(bbox_to_anchor=(1.04, 1), loc=\"upper left\", borderaxespad=0.)\n",
    "    plt.show()"
   ]
  },
  {
   "cell_type": "code",
   "execution_count": 7,
   "id": "bf4ba413",
   "metadata": {},
   "outputs": [],
   "source": [
    "def fnr_calc(y_test, y_pred):\n",
    "    tp, fn, fp, tn = confusion_matrix(y_test, y_pred, labels=[1,0]).ravel()\n",
    "    return fn / (fn + tp)\n",
    "\n",
    "def fpr_calc(y_test, y_pred):\n",
    "    tp, fn, fp, tn = confusion_matrix(y_test, y_pred, labels=[1,0]).ravel()\n",
    "    return fp / (fp + tn)\n",
    "\n",
    "\n",
    "\n",
    "def model_metrics(y_test, y_pred):\n",
    "    tp, fn, fp, tn = confusion_matrix(y_test, y_pred, labels=[1,0]).ravel()\n",
    "    \n",
    "    fnr = fn / (fn + tp)\n",
    "    fpr = fp / (fp + tn)\n",
    "    \n",
    "    roc_auc = roc_auc_score(y_test, y_pred)\n",
    "    \n",
    "    sensitivity = tp / (tp + fn)\n",
    "    specificity = tn / (tp + tn)\n",
    "    \n",
    "    return fnr, fpr, roc_auc, sensitivity, specificity"
   ]
  },
  {
   "cell_type": "markdown",
   "id": "90619e85",
   "metadata": {},
   "source": [
    "# Data preparation"
   ]
  },
  {
   "cell_type": "code",
   "execution_count": 8,
   "id": "93c92b7d",
   "metadata": {},
   "outputs": [
    {
     "data": {
      "text/html": [
       "<div>\n",
       "<style scoped>\n",
       "    .dataframe tbody tr th:only-of-type {\n",
       "        vertical-align: middle;\n",
       "    }\n",
       "\n",
       "    .dataframe tbody tr th {\n",
       "        vertical-align: top;\n",
       "    }\n",
       "\n",
       "    .dataframe thead th {\n",
       "        text-align: right;\n",
       "    }\n",
       "</style>\n",
       "<table border=\"1\" class=\"dataframe\">\n",
       "  <thead>\n",
       "    <tr style=\"text-align: right;\">\n",
       "      <th></th>\n",
       "      <th>Time</th>\n",
       "      <th>V1</th>\n",
       "      <th>V2</th>\n",
       "      <th>V3</th>\n",
       "      <th>V4</th>\n",
       "      <th>V5</th>\n",
       "      <th>V6</th>\n",
       "      <th>V7</th>\n",
       "      <th>V8</th>\n",
       "      <th>V9</th>\n",
       "      <th>...</th>\n",
       "      <th>V21</th>\n",
       "      <th>V22</th>\n",
       "      <th>V23</th>\n",
       "      <th>V24</th>\n",
       "      <th>V25</th>\n",
       "      <th>V26</th>\n",
       "      <th>V27</th>\n",
       "      <th>V28</th>\n",
       "      <th>Amount</th>\n",
       "      <th>Class</th>\n",
       "    </tr>\n",
       "  </thead>\n",
       "  <tbody>\n",
       "    <tr>\n",
       "      <th>0</th>\n",
       "      <td>0.0</td>\n",
       "      <td>-1.359807</td>\n",
       "      <td>-0.072781</td>\n",
       "      <td>2.536347</td>\n",
       "      <td>1.378155</td>\n",
       "      <td>-0.338321</td>\n",
       "      <td>0.462388</td>\n",
       "      <td>0.239599</td>\n",
       "      <td>0.098698</td>\n",
       "      <td>0.363787</td>\n",
       "      <td>...</td>\n",
       "      <td>-0.018307</td>\n",
       "      <td>0.277838</td>\n",
       "      <td>-0.110474</td>\n",
       "      <td>0.066928</td>\n",
       "      <td>0.128539</td>\n",
       "      <td>-0.189115</td>\n",
       "      <td>0.133558</td>\n",
       "      <td>-0.021053</td>\n",
       "      <td>149.62</td>\n",
       "      <td>0</td>\n",
       "    </tr>\n",
       "    <tr>\n",
       "      <th>1</th>\n",
       "      <td>0.0</td>\n",
       "      <td>1.191857</td>\n",
       "      <td>0.266151</td>\n",
       "      <td>0.166480</td>\n",
       "      <td>0.448154</td>\n",
       "      <td>0.060018</td>\n",
       "      <td>-0.082361</td>\n",
       "      <td>-0.078803</td>\n",
       "      <td>0.085102</td>\n",
       "      <td>-0.255425</td>\n",
       "      <td>...</td>\n",
       "      <td>-0.225775</td>\n",
       "      <td>-0.638672</td>\n",
       "      <td>0.101288</td>\n",
       "      <td>-0.339846</td>\n",
       "      <td>0.167170</td>\n",
       "      <td>0.125895</td>\n",
       "      <td>-0.008983</td>\n",
       "      <td>0.014724</td>\n",
       "      <td>2.69</td>\n",
       "      <td>0</td>\n",
       "    </tr>\n",
       "    <tr>\n",
       "      <th>2</th>\n",
       "      <td>1.0</td>\n",
       "      <td>-1.358354</td>\n",
       "      <td>-1.340163</td>\n",
       "      <td>1.773209</td>\n",
       "      <td>0.379780</td>\n",
       "      <td>-0.503198</td>\n",
       "      <td>1.800499</td>\n",
       "      <td>0.791461</td>\n",
       "      <td>0.247676</td>\n",
       "      <td>-1.514654</td>\n",
       "      <td>...</td>\n",
       "      <td>0.247998</td>\n",
       "      <td>0.771679</td>\n",
       "      <td>0.909412</td>\n",
       "      <td>-0.689281</td>\n",
       "      <td>-0.327642</td>\n",
       "      <td>-0.139097</td>\n",
       "      <td>-0.055353</td>\n",
       "      <td>-0.059752</td>\n",
       "      <td>378.66</td>\n",
       "      <td>0</td>\n",
       "    </tr>\n",
       "    <tr>\n",
       "      <th>3</th>\n",
       "      <td>1.0</td>\n",
       "      <td>-0.966272</td>\n",
       "      <td>-0.185226</td>\n",
       "      <td>1.792993</td>\n",
       "      <td>-0.863291</td>\n",
       "      <td>-0.010309</td>\n",
       "      <td>1.247203</td>\n",
       "      <td>0.237609</td>\n",
       "      <td>0.377436</td>\n",
       "      <td>-1.387024</td>\n",
       "      <td>...</td>\n",
       "      <td>-0.108300</td>\n",
       "      <td>0.005274</td>\n",
       "      <td>-0.190321</td>\n",
       "      <td>-1.175575</td>\n",
       "      <td>0.647376</td>\n",
       "      <td>-0.221929</td>\n",
       "      <td>0.062723</td>\n",
       "      <td>0.061458</td>\n",
       "      <td>123.50</td>\n",
       "      <td>0</td>\n",
       "    </tr>\n",
       "    <tr>\n",
       "      <th>4</th>\n",
       "      <td>2.0</td>\n",
       "      <td>-1.158233</td>\n",
       "      <td>0.877737</td>\n",
       "      <td>1.548718</td>\n",
       "      <td>0.403034</td>\n",
       "      <td>-0.407193</td>\n",
       "      <td>0.095921</td>\n",
       "      <td>0.592941</td>\n",
       "      <td>-0.270533</td>\n",
       "      <td>0.817739</td>\n",
       "      <td>...</td>\n",
       "      <td>-0.009431</td>\n",
       "      <td>0.798278</td>\n",
       "      <td>-0.137458</td>\n",
       "      <td>0.141267</td>\n",
       "      <td>-0.206010</td>\n",
       "      <td>0.502292</td>\n",
       "      <td>0.219422</td>\n",
       "      <td>0.215153</td>\n",
       "      <td>69.99</td>\n",
       "      <td>0</td>\n",
       "    </tr>\n",
       "  </tbody>\n",
       "</table>\n",
       "<p>5 rows × 31 columns</p>\n",
       "</div>"
      ],
      "text/plain": [
       "   Time        V1        V2        V3        V4        V5        V6        V7  \\\n",
       "0   0.0 -1.359807 -0.072781  2.536347  1.378155 -0.338321  0.462388  0.239599   \n",
       "1   0.0  1.191857  0.266151  0.166480  0.448154  0.060018 -0.082361 -0.078803   \n",
       "2   1.0 -1.358354 -1.340163  1.773209  0.379780 -0.503198  1.800499  0.791461   \n",
       "3   1.0 -0.966272 -0.185226  1.792993 -0.863291 -0.010309  1.247203  0.237609   \n",
       "4   2.0 -1.158233  0.877737  1.548718  0.403034 -0.407193  0.095921  0.592941   \n",
       "\n",
       "         V8        V9  ...       V21       V22       V23       V24       V25  \\\n",
       "0  0.098698  0.363787  ... -0.018307  0.277838 -0.110474  0.066928  0.128539   \n",
       "1  0.085102 -0.255425  ... -0.225775 -0.638672  0.101288 -0.339846  0.167170   \n",
       "2  0.247676 -1.514654  ...  0.247998  0.771679  0.909412 -0.689281 -0.327642   \n",
       "3  0.377436 -1.387024  ... -0.108300  0.005274 -0.190321 -1.175575  0.647376   \n",
       "4 -0.270533  0.817739  ... -0.009431  0.798278 -0.137458  0.141267 -0.206010   \n",
       "\n",
       "        V26       V27       V28  Amount  Class  \n",
       "0 -0.189115  0.133558 -0.021053  149.62      0  \n",
       "1  0.125895 -0.008983  0.014724    2.69      0  \n",
       "2 -0.139097 -0.055353 -0.059752  378.66      0  \n",
       "3 -0.221929  0.062723  0.061458  123.50      0  \n",
       "4  0.502292  0.219422  0.215153   69.99      0  \n",
       "\n",
       "[5 rows x 31 columns]"
      ]
     },
     "execution_count": 8,
     "metadata": {},
     "output_type": "execute_result"
    }
   ],
   "source": [
    "dataframe = pd.read_csv(\"./data/creditcard.csv\")\n",
    "\n",
    "columns = dataframe.columns.drop('Class')\n",
    "\n",
    "dataframe.head(5)"
   ]
  },
  {
   "cell_type": "code",
   "execution_count": 9,
   "id": "241828f8",
   "metadata": {},
   "outputs": [],
   "source": [
    "scaled_dataframe = dataframe.copy().drop(['Class'],axis=1)\n",
    "\n",
    "transformer = StandardScaler()\n",
    "\n",
    "transformer.fit(scaled_dataframe)\n",
    "\n",
    "scaled_dataframe = transformer.transform(scaled_dataframe)\n",
    "scaled_dataframe = pd.DataFrame(scaled_dataframe, columns=columns)"
   ]
  },
  {
   "cell_type": "code",
   "execution_count": 10,
   "id": "be1aa406",
   "metadata": {},
   "outputs": [
    {
     "name": "stdout",
     "output_type": "stream",
     "text": [
      "train rows: 190820, test rows: 93987\n"
     ]
    }
   ],
   "source": [
    "X = scaled_dataframe\n",
    "y = dataframe.Class\n",
    "\n",
    "X_train, X_test, y_train, y_test = train_test_split(X,y,random_state=seed, test_size=0.33)\n",
    "\n",
    "print(\"train rows: {}, test rows: {}\".format(X_train.shape[0], X_test.shape[0]))"
   ]
  },
  {
   "cell_type": "markdown",
   "id": "f76f7b37",
   "metadata": {},
   "source": [
    "# Testing Random Forest classifier"
   ]
  },
  {
   "cell_type": "code",
   "execution_count": 6,
   "id": "bce56ca8",
   "metadata": {},
   "outputs": [
    {
     "data": {
      "text/plain": [
       "0.9996701671507762"
      ]
     },
     "execution_count": 6,
     "metadata": {},
     "output_type": "execute_result"
    }
   ],
   "source": [
    "rf = RandomForestClassifier(random_state=seed)\n",
    "rf.fit(X_train,y_train)\n",
    "\n",
    "rf.score(X_test, y_test)"
   ]
  },
  {
   "cell_type": "code",
   "execution_count": 7,
   "id": "7b96b5b0",
   "metadata": {},
   "outputs": [],
   "source": [
    "y_pred = rf.predict(X_test)"
   ]
  },
  {
   "cell_type": "code",
   "execution_count": 8,
   "id": "7de9fdad",
   "metadata": {},
   "outputs": [
    {
     "data": {
      "text/plain": [
       "array([[  130,    27],\n",
       "       [    4, 93826]], dtype=int64)"
      ]
     },
     "execution_count": 8,
     "metadata": {},
     "output_type": "execute_result"
    }
   ],
   "source": [
    "cm = confusion_matrix(y_test, y_pred, labels=[1,0])\n",
    "cm"
   ]
  },
  {
   "cell_type": "code",
   "execution_count": 9,
   "id": "1de520d3",
   "metadata": {},
   "outputs": [
    {
     "name": "stdout",
     "output_type": "stream",
     "text": [
      "FNR = 17.1975%, FPR = 0.0043%\n",
      "ROC AUC = 91.3991\n",
      "sensitivity = 82.8025%, specificity = 99.8616%\n"
     ]
    }
   ],
   "source": [
    "fnr, fpr, roc_auc, sensitivity, specificity = model_metrics(y_test, y_pred)\n",
    "\n",
    "print(\"FNR = {:.4f}%, FPR = {:.4f}%\".format(fnr * 100, fpr * 100))\n",
    "print(\"ROC AUC = {:.4f}\".format(roc_auc * 100))\n",
    "print(\"sensitivity = {:.4f}%, specificity = {:.4f}%\".format(sensitivity * 100, specificity * 100))"
   ]
  },
  {
   "cell_type": "markdown",
   "id": "59f32a3d",
   "metadata": {},
   "source": [
    "## Testing other Random Forest settings"
   ]
  },
  {
   "cell_type": "code",
   "execution_count": 12,
   "id": "7e6dd228",
   "metadata": {},
   "outputs": [],
   "source": [
    "n_estimators = [5,20,50,100]\n",
    "\n",
    "fnrs_1 = []\n",
    "fprs_1 = []\n",
    "roc_aucs_1 = []\n",
    "sensitivities_1 = []\n",
    "specificities_1 = []\n",
    "\n",
    "for n_estimators_param in n_estimators:\n",
    "    rf = RandomForestClassifier(n_estimators=n_estimators_param, random_state=seed)\n",
    "    rf.fit(X_train, y_train)\n",
    "    y_pred = rf.predict(X_test)\n",
    "    fnr, fpr, roc_auc, sensitivity, specificity = model_metrics(y_test, y_pred)\n",
    "    fnrs_1.append(fnr)\n",
    "    fprs_1.append(fpr)\n",
    "    roc_aucs_1.append(roc_auc)\n",
    "    sensitivities_1.append(sensitivity)\n",
    "    specificities_1.append(specificity)"
   ]
  },
  {
   "cell_type": "code",
   "execution_count": 14,
   "id": "7b731cce",
   "metadata": {},
   "outputs": [
    {
     "name": "stdout",
     "output_type": "stream",
     "text": [
      "FNR = 16.5605%, FPR = 0.0032%\n",
      "ROC AUC = 91.7181\n",
      "sensitivity = 83.4395%, specificity = 99.8606%\n",
      "Best n_estimators = 50.00\n"
     ]
    },
    {
     "data": {
      "text/plain": [
       "array([[  131,    26],\n",
       "       [    3, 93827]], dtype=int64)"
      ]
     },
     "execution_count": 14,
     "metadata": {},
     "output_type": "execute_result"
    }
   ],
   "source": [
    "min_fnr = 100\n",
    "best_param = 0\n",
    "for i in range(len(fnrs_1)):\n",
    "    if (fprs_1[i] * 100 < 0.5 and fnrs_1[i] < min_fnr):\n",
    "        min_fnr = fnrs_1[i]\n",
    "        best_param = i\n",
    "        \n",
    "print(\"FNR = {:.4f}%, FPR = {:.4f}%\".format(fnrs_1[best_param] * 100, fprs_1[best_param] * 100))\n",
    "print(\"ROC AUC = {:.4f}\".format(roc_aucs_1[best_param] * 100))\n",
    "print(\"sensitivity = {:.4f}%, specificity = {:.4f}%\".format(sensitivities_1[best_param] * 100, specificities_1[best_param] * 100))\n",
    "\n",
    "print(\"Best n_estimators = {:.2f}\".format(n_estimators[best_param]))\n",
    "\n",
    "best_p = n_estimators[best_param]\n",
    "\n",
    "dt = RandomForestClassifier(n_estimators=best_p, random_state=seed)\n",
    "dt.fit(X_train, y_train)\n",
    "y_pred_best = dt.predict(X_test)\n",
    "\n",
    "cm = confusion_matrix(y_test, y_pred_best, labels=[1,0])\n",
    "cm"
   ]
  },
  {
   "cell_type": "code",
   "execution_count": 52,
   "id": "005bce1b",
   "metadata": {},
   "outputs": [
    {
     "data": {
      "image/png": "[encoded data removed]",
      "text/plain": [
       "<Figure size 500x500 with 1 Axes>"
      ]
     },
     "metadata": {},
     "output_type": "display_data"
    }
   ],
   "source": [
    "resultPlot('n_estimators', n_estimators, fnrs_1, fprs_1, roc_aucs_1, sensitivities_1, specificities_1, marker='.')"
   ]
  },
  {
   "cell_type": "code",
   "execution_count": 15,
   "id": "d564d137",
   "metadata": {},
   "outputs": [],
   "source": [
    "max_depth = np.linspace(1, 32, 32).astype(int)\n",
    "\n",
    "fnrs_2 = []\n",
    "fprs_2 = []\n",
    "roc_aucs_2 = []\n",
    "sensitivities_2 = []\n",
    "specificities_2 = []\n",
    "\n",
    "for max_depth_param in max_depth:\n",
    "    rf = RandomForestClassifier(n_estimators=50, max_depth=max_depth_param, random_state=seed)\n",
    "    rf.fit(X_train, y_train)\n",
    "    y_pred = rf.predict(X_test)\n",
    "    fnr, fpr, roc_auc, sensitivity, specificity = model_metrics(y_test, y_pred)\n",
    "    fnrs_2.append(fnr)\n",
    "    fprs_2.append(fpr)\n",
    "    roc_aucs_2.append(roc_auc)\n",
    "    sensitivities_2.append(sensitivity)\n",
    "    specificities_2.append(specificity)"
   ]
  },
  {
   "cell_type": "code",
   "execution_count": 31,
   "id": "2d631cfb",
   "metadata": {},
   "outputs": [
    {
     "name": "stdout",
     "output_type": "stream",
     "text": [
      "FNR = 15.9236%, FPR = 0.0043%\n",
      "ROC AUC = 92.0361\n",
      "sensitivity = 84.0764%, specificity = 99.8595%\n",
      "Best max_depth = 14.00\n"
     ]
    },
    {
     "data": {
      "text/plain": [
       "array([[  132,    25],\n",
       "       [    4, 93826]], dtype=int64)"
      ]
     },
     "execution_count": 31,
     "metadata": {},
     "output_type": "execute_result"
    }
   ],
   "source": [
    "min_fnr = 100\n",
    "best_param = 0\n",
    "for i in range(len(fnrs_2)):\n",
    "    if (fprs_2[i] * 100 < 0.5 and fnrs_2[i] < min_fnr):\n",
    "        min_fnr = fnrs_2[i]\n",
    "        best_param = i\n",
    "        \n",
    "print(\"FNR = {:.4f}%, FPR = {:.4f}%\".format(fnrs_2[best_param] * 100, fprs_2[best_param] * 100))\n",
    "print(\"ROC AUC = {:.4f}\".format(roc_aucs_2[best_param] * 100))\n",
    "print(\"sensitivity = {:.4f}%, specificity = {:.4f}%\".format(sensitivities_2[best_param] * 100, specificities_2[best_param] * 100))\n",
    "\n",
    "print(\"Best max_depth = {:.2f}\".format(max_depth[best_param]))\n",
    "\n",
    "best_p = max_depth[best_param]\n",
    "\n",
    "dt = RandomForestClassifier(n_estimators=50, max_depth=best_p, random_state=seed)\n",
    "dt.fit(X_train, y_train)\n",
    "y_pred_best = dt.predict(X_test)\n",
    "\n",
    "cm = confusion_matrix(y_test, y_pred_best, labels=[1,0])\n",
    "cm"
   ]
  },
  {
   "cell_type": "code",
   "execution_count": 58,
   "id": "8a89a9c6",
   "metadata": {},
   "outputs": [
    {
     "data": {
      "image/png": "[encoded data removed]",
      "text/plain": [
       "<Figure size 1200x500 with 1 Axes>"
      ]
     },
     "metadata": {},
     "output_type": "display_data"
    }
   ],
   "source": [
    "resultPlot('max_depth', max_depth, fnrs_2, fprs_2, roc_aucs_2, sensitivities_2, specificities_2, marker='.', scale=1, size=12)"
   ]
  },
  {
   "cell_type": "code",
   "execution_count": 19,
   "id": "294f5833",
   "metadata": {},
   "outputs": [],
   "source": [
    "min_samples_split = np.linspace(2, 10, 9, endpoint=True).astype(int)\n",
    "\n",
    "fnrs_3 = []\n",
    "fprs_3 = []\n",
    "roc_aucs_3 = []\n",
    "sensitivities_3 = []\n",
    "specificities_3 = []\n",
    "\n",
    "for min_samples_split_param in min_samples_split:\n",
    "    rf = RandomForestClassifier(n_estimators=50, min_samples_split=min_samples_split_param, random_state=seed)\n",
    "    rf.fit(X_train, y_train)\n",
    "    y_pred = rf.predict(X_test)\n",
    "    fnr, fpr, roc_auc, sensitivity, specificity = model_metrics(y_test, y_pred)\n",
    "    fnrs_3.append(fnr)\n",
    "    fprs_3.append(fpr)\n",
    "    roc_aucs_3.append(roc_auc)\n",
    "    sensitivities_3.append(sensitivity)\n",
    "    specificities_3.append(specificity)"
   ]
  },
  {
   "cell_type": "code",
   "execution_count": 33,
   "id": "c4aeb02c",
   "metadata": {},
   "outputs": [
    {
     "name": "stdout",
     "output_type": "stream",
     "text": [
      "FNR = 16.5605%, FPR = 0.0032%\n",
      "ROC AUC = 91.7181\n",
      "sensitivity = 83.4395%, specificity = 99.8606%\n",
      "Best min_samples_split = 2.00\n"
     ]
    },
    {
     "data": {
      "text/plain": [
       "array([[  131,    26],\n",
       "       [    3, 93827]], dtype=int64)"
      ]
     },
     "execution_count": 33,
     "metadata": {},
     "output_type": "execute_result"
    }
   ],
   "source": [
    "min_fnr = 100\n",
    "best_param = 0\n",
    "for i in range(len(fnrs_3)):\n",
    "    if (fprs_3[i] * 100 < 0.5 and fnrs_3[i] < min_fnr):\n",
    "        min_fnr = fnrs_3[i]\n",
    "        best_param = i\n",
    "        \n",
    "print(\"FNR = {:.4f}%, FPR = {:.4f}%\".format(fnrs_3[best_param] * 100, fprs_3[best_param] * 100))\n",
    "print(\"ROC AUC = {:.4f}\".format(roc_aucs_3[best_param] * 100))\n",
    "print(\"sensitivity = {:.4f}%, specificity = {:.4f}%\".format(sensitivities_3[best_param] * 100, specificities_3[best_param] * 100))\n",
    "\n",
    "print(\"Best min_samples_split = {:.2f}\".format(min_samples_split[best_param]))\n",
    "\n",
    "best_p = min_samples_split[best_param]\n",
    "\n",
    "dt = RandomForestClassifier(n_estimators=50, min_samples_split=best_p, random_state=seed)\n",
    "dt.fit(X_train, y_train)\n",
    "y_pred_best = dt.predict(X_test)\n",
    "\n",
    "cm = confusion_matrix(y_test, y_pred_best, labels=[1,0])\n",
    "cm"
   ]
  },
  {
   "cell_type": "code",
   "execution_count": 59,
   "id": "d680efee",
   "metadata": {},
   "outputs": [
    {
     "data": {
      "image/png": "[encoded data removed]",
      "text/plain": [
       "<Figure size 500x500 with 1 Axes>"
      ]
     },
     "metadata": {},
     "output_type": "display_data"
    }
   ],
   "source": [
    "resultPlot('min_samples_split', min_samples_split, fnrs_3, fprs_3, roc_aucs_3, sensitivities_3, specificities_3, marker='.')"
   ]
  },
  {
   "cell_type": "code",
   "execution_count": 44,
   "id": "5437cc59",
   "metadata": {},
   "outputs": [],
   "source": [
    "max_depth_2 = np.linspace(10, 32, 22).astype(int)\n",
    "\n",
    "fnrs_4 = []\n",
    "fprs_4 = []\n",
    "roc_aucs_4 = []\n",
    "sensitivities_4 = []\n",
    "specificities_4 = []\n",
    "\n",
    "for max_depth_2_param in max_depth_2:\n",
    "    rf = RandomForestClassifier(n_estimators=100, max_depth=max_depth_2_param, random_state=seed)\n",
    "    rf.fit(X_train, y_train)\n",
    "    y_pred = rf.predict(X_test)\n",
    "    fnr, fpr, roc_auc, sensitivity, specificity = model_metrics(y_test, y_pred)\n",
    "    fnrs_4.append(fnr)\n",
    "    fprs_4.append(fpr)\n",
    "    roc_aucs_4.append(roc_auc)\n",
    "    sensitivities_4.append(sensitivity)\n",
    "    specificities_4.append(specificity)"
   ]
  },
  {
   "cell_type": "code",
   "execution_count": 48,
   "id": "b13d5e31",
   "metadata": {},
   "outputs": [
    {
     "name": "stdout",
     "output_type": "stream",
     "text": [
      "FNR = 16.5605%, FPR = 0.0043%\n",
      "ROC AUC = 91.7176\n",
      "sensitivity = 83.4395%, specificity = 99.8606%\n",
      "Best max_depth = 14.00\n"
     ]
    },
    {
     "data": {
      "text/plain": [
       "array([[  131,    26],\n",
       "       [    4, 93826]], dtype=int64)"
      ]
     },
     "execution_count": 48,
     "metadata": {},
     "output_type": "execute_result"
    }
   ],
   "source": [
    "min_fnr = 100\n",
    "best_param = 0\n",
    "for i in range(len(fnrs_4)):\n",
    "    if (fprs_4[i] * 100 < 0.5 and fnrs_4[i] < min_fnr):\n",
    "        min_fnr = fnrs_4[i]\n",
    "        best_param = i\n",
    "        \n",
    "print(\"FNR = {:.4f}%, FPR = {:.4f}%\".format(fnrs_4[best_param] * 100, fprs_4[best_param] * 100))\n",
    "print(\"ROC AUC = {:.4f}\".format(roc_aucs_4[best_param] * 100))\n",
    "print(\"sensitivity = {:.4f}%, specificity = {:.4f}%\".format(sensitivities_4[best_param] * 100, specificities_4[best_param] * 100))\n",
    "\n",
    "print(\"Best max_depth = {:.2f}\".format(max_depth_2[best_param]))\n",
    "\n",
    "best_p = max_depth_2[best_param]\n",
    "\n",
    "dt = RandomForestClassifier(n_estimators=100, max_depth=best_p, random_state=seed)\n",
    "dt.fit(X_train, y_train)\n",
    "y_pred_best = dt.predict(X_test)\n",
    "\n",
    "cm = confusion_matrix(y_test, y_pred_best, labels=[1,0])\n",
    "cm"
   ]
  },
  {
   "cell_type": "code",
   "execution_count": 66,
   "id": "264d65a6",
   "metadata": {},
   "outputs": [
    {
     "data": {
      "image/png": "[encoded data removed]",
      "text/plain": [
       "<Figure size 500x500 with 1 Axes>"
      ]
     },
     "metadata": {},
     "output_type": "display_data"
    }
   ],
   "source": [
    "resultPlot('max_depth', max_depth_2, fnrs_4, fprs_4, roc_aucs_4, sensitivities_4, specificities_4, marker='.', scale=4)"
   ]
  },
  {
   "cell_type": "markdown",
   "id": "7621fd57",
   "metadata": {},
   "source": [
    "#  Balancing Classes"
   ]
  },
  {
   "cell_type": "markdown",
   "id": "ad6f4973",
   "metadata": {},
   "source": [
    "### Random under-sampling"
   ]
  },
  {
   "cell_type": "code",
   "execution_count": 11,
   "id": "e7cdfd76",
   "metadata": {},
   "outputs": [],
   "source": [
    "from imblearn.under_sampling import RandomUnderSampler"
   ]
  },
  {
   "cell_type": "code",
   "execution_count": 12,
   "id": "8dd5fc9c",
   "metadata": {},
   "outputs": [
    {
     "name": "stdout",
     "output_type": "stream",
     "text": [
      "0    335\n",
      "1    335\n",
      "Name: Class, dtype: int64\n"
     ]
    }
   ],
   "source": [
    "undersampled_dataframe = RandomUnderSampler(random_state=seed).fit_resample(X_train, y_train)\n",
    "\n",
    "X_train_und, y_train_und = undersampled_dataframe\n",
    "\n",
    "print(y_train_und.value_counts())"
   ]
  },
  {
   "cell_type": "code",
   "execution_count": 13,
   "id": "0218c840",
   "metadata": {},
   "outputs": [
    {
     "data": {
      "text/plain": [
       "array([[  144,    13],\n",
       "       [ 2793, 91037]], dtype=int64)"
      ]
     },
     "execution_count": 13,
     "metadata": {},
     "output_type": "execute_result"
    }
   ],
   "source": [
    "rf_und = RandomForestClassifier(n_estimators=50, max_depth=14, random_state=seed)\n",
    "rf_und.fit(X_train_und,y_train_und)\n",
    "\n",
    "y_pred_und = rf_und.predict(X_test)\n",
    "\n",
    "cm_und = confusion_matrix(y_test, y_pred_und, labels=[1,0])\n",
    "cm_und"
   ]
  },
  {
   "cell_type": "code",
   "execution_count": 14,
   "id": "7951c7b3",
   "metadata": {},
   "outputs": [
    {
     "name": "stdout",
     "output_type": "stream",
     "text": [
      "FNR = 8.2803%, FPR = 2.9767%\n",
      "ROC AUC = 0.9437\n",
      "sensitivity = 91.7197%, specificity = 99.8421%\n"
     ]
    }
   ],
   "source": [
    "fnr_und, fpr_und, roc_auc_und, sensitivity_und, specificity_und = model_metrics(y_test, y_pred_und)\n",
    "\n",
    "print(\"FNR = {:.4f}%, FPR = {:.4f}%\".format(fnr_und * 100, fpr_und * 100))\n",
    "print(\"ROC AUC = {:.4f}\".format(roc_auc_und))\n",
    "print(\"sensitivity = {:.4f}%, specificity = {:.4f}%\".format(sensitivity_und * 100, specificity_und * 100))"
   ]
  },
  {
   "cell_type": "markdown",
   "id": "3410d088",
   "metadata": {},
   "source": [
    "### Random over-sampling"
   ]
  },
  {
   "cell_type": "code",
   "execution_count": 15,
   "id": "a144d1f3",
   "metadata": {},
   "outputs": [],
   "source": [
    "from imblearn.over_sampling  import RandomOverSampler"
   ]
  },
  {
   "cell_type": "code",
   "execution_count": 16,
   "id": "0b7d1fe5",
   "metadata": {},
   "outputs": [
    {
     "name": "stdout",
     "output_type": "stream",
     "text": [
      "0    190485\n",
      "1    190485\n",
      "Name: Class, dtype: int64\n"
     ]
    }
   ],
   "source": [
    "oversampled_dataframe = RandomOverSampler(random_state=seed).fit_resample(X_train, y_train)\n",
    "\n",
    "X_train_ov, y_train_ov = oversampled_dataframe\n",
    "\n",
    "print(y_train_ov.value_counts())"
   ]
  },
  {
   "cell_type": "code",
   "execution_count": 17,
   "id": "25c29f55",
   "metadata": {},
   "outputs": [
    {
     "data": {
      "text/plain": [
       "array([[  132,    25],\n",
       "       [   19, 93811]], dtype=int64)"
      ]
     },
     "execution_count": 17,
     "metadata": {},
     "output_type": "execute_result"
    }
   ],
   "source": [
    "rf_ov = RandomForestClassifier(n_estimators=50, max_depth=14, random_state=seed)\n",
    "rf_ov.fit(X_train_ov,y_train_ov)\n",
    "\n",
    "y_pred_ov = rf_ov.predict(X_test)\n",
    "\n",
    "cm_ov = confusion_matrix(y_test, y_pred_ov, labels=[1,0])\n",
    "cm_ov"
   ]
  },
  {
   "cell_type": "code",
   "execution_count": 18,
   "id": "9a2c7ab9",
   "metadata": {},
   "outputs": [
    {
     "name": "stdout",
     "output_type": "stream",
     "text": [
      "FNR = 15.9236%, FPR = 0.0202%\n",
      "ROC AUC = 0.9203\n",
      "sensitivity = 84.0764%, specificity = 99.8595%\n"
     ]
    }
   ],
   "source": [
    "fnr_ov, fpr_ov, roc_auc_ov, sensitivity_ov, specificity_ov = model_metrics(y_test, y_pred_ov)\n",
    "\n",
    "print(\"FNR = {:.4f}%, FPR = {:.4f}%\".format(fnr_ov * 100, fpr_ov * 100))\n",
    "print(\"ROC AUC = {:.4f}\".format(roc_auc_ov))\n",
    "print(\"sensitivity = {:.4f}%, specificity = {:.4f}%\".format(sensitivity_ov * 100, specificity_ov * 100))"
   ]
  },
  {
   "cell_type": "markdown",
   "id": "8e04bdbc",
   "metadata": {},
   "source": [
    "### Smote over-sampling"
   ]
  },
  {
   "cell_type": "code",
   "execution_count": 19,
   "id": "5fa0ac0f",
   "metadata": {},
   "outputs": [],
   "source": [
    "from imblearn.over_sampling import SMOTE"
   ]
  },
  {
   "cell_type": "code",
   "execution_count": 20,
   "id": "91e8c465",
   "metadata": {},
   "outputs": [
    {
     "name": "stdout",
     "output_type": "stream",
     "text": [
      "0    190485\n",
      "1    190485\n",
      "Name: Class, dtype: int64\n"
     ]
    }
   ],
   "source": [
    "SMOTE_dataframe = SMOTE(random_state=seed).fit_resample(X_train, y_train)\n",
    "\n",
    "X_train_SMOTE, y_train_SMOTE = SMOTE_dataframe\n",
    "\n",
    "print(y_train_SMOTE.value_counts())"
   ]
  },
  {
   "cell_type": "code",
   "execution_count": 21,
   "id": "195651ad",
   "metadata": {},
   "outputs": [
    {
     "data": {
      "text/plain": [
       "array([[  135,    22],\n",
       "       [   69, 93761]], dtype=int64)"
      ]
     },
     "execution_count": 21,
     "metadata": {},
     "output_type": "execute_result"
    }
   ],
   "source": [
    "rf_SMOTE = RandomForestClassifier(n_estimators=50, max_depth=14, random_state=seed)\n",
    "rf_SMOTE.fit(X_train_SMOTE,y_train_SMOTE)\n",
    "\n",
    "y_pred_SMOTE = rf_SMOTE.predict(X_test)\n",
    "\n",
    "cm_SMOTE = confusion_matrix(y_test, y_pred_SMOTE, labels=[1,0])\n",
    "cm_SMOTE"
   ]
  },
  {
   "cell_type": "code",
   "execution_count": 22,
   "id": "ab1b1999",
   "metadata": {},
   "outputs": [
    {
     "name": "stdout",
     "output_type": "stream",
     "text": [
      "FNR = 14.0127%, FPR = 0.0735%\n",
      "ROC AUC = 0.9296\n",
      "sensitivity = 85.9873%, specificity = 99.8562%\n"
     ]
    }
   ],
   "source": [
    "fnr_SMOTE, fpr_SMOTE, roc_auc_SMOTE, sensitivity_SMOTE, specificity_SMOTE = model_metrics(y_test, y_pred_SMOTE)\n",
    "\n",
    "print(\"FNR = {:.4f}%, FPR = {:.4f}%\".format(fnr_SMOTE * 100, fpr_SMOTE * 100))\n",
    "print(\"ROC AUC = {:.4f}\".format(roc_auc_SMOTE))\n",
    "print(\"sensitivity = {:.4f}%, specificity = {:.4f}%\".format(sensitivity_SMOTE * 100, specificity_SMOTE * 100))"
   ]
  },
  {
   "cell_type": "markdown",
   "id": "e689cab9",
   "metadata": {},
   "source": [
    "### Cluster Centroids under-smapling"
   ]
  },
  {
   "cell_type": "code",
   "execution_count": 23,
   "id": "1571db62",
   "metadata": {},
   "outputs": [],
   "source": [
    "from imblearn.under_sampling import ClusterCentroids"
   ]
  },
  {
   "cell_type": "code",
   "execution_count": 24,
   "id": "2868f6e0",
   "metadata": {},
   "outputs": [
    {
     "name": "stderr",
     "output_type": "stream",
     "text": [
      "E:\\Projekty\\AiED\\Projekt\\venv\\lib\\site-packages\\sklearn\\cluster\\_kmeans.py:870: FutureWarning: The default value of `n_init` will change from 10 to 'auto' in 1.4. Set the value of `n_init` explicitly to suppress the warning\n",
      "  warnings.warn(\n"
     ]
    },
    {
     "name": "stdout",
     "output_type": "stream",
     "text": [
      "0    335\n",
      "1    335\n",
      "Name: Class, dtype: int64\n"
     ]
    }
   ],
   "source": [
    "cc_dataframe = ClusterCentroids(random_state=seed).fit_resample(X_train, y_train)\n",
    "\n",
    "X_train_cc, y_train_cc = cc_dataframe\n",
    "\n",
    "print(y_train_cc.value_counts())"
   ]
  },
  {
   "cell_type": "code",
   "execution_count": 25,
   "id": "0f3e484f",
   "metadata": {},
   "outputs": [
    {
     "data": {
      "text/plain": [
       "array([[  147,    10],\n",
       "       [27003, 66827]], dtype=int64)"
      ]
     },
     "execution_count": 25,
     "metadata": {},
     "output_type": "execute_result"
    }
   ],
   "source": [
    "rf_cc = RandomForestClassifier(n_estimators=50, max_depth=14, random_state=seed)\n",
    "rf_cc.fit(X_train_cc,y_train_cc)\n",
    "\n",
    "y_pred_cc = rf_cc.predict(X_test)\n",
    "\n",
    "cm_cc = confusion_matrix(y_test, y_pred_cc, labels=[1,0])\n",
    "cm_cc"
   ]
  },
  {
   "cell_type": "code",
   "execution_count": 26,
   "id": "d071714a",
   "metadata": {},
   "outputs": [
    {
     "name": "stdout",
     "output_type": "stream",
     "text": [
      "FNR = 6.3694%, FPR = 28.7786%\n",
      "ROC AUC = 0.8243\n",
      "sensitivity = 93.6306%, specificity = 99.7805%\n"
     ]
    }
   ],
   "source": [
    "fnr_cc, fpr_cc, roc_auc_cc, sensitivity_cc, specificity_cc = model_metrics(y_test, y_pred_cc)\n",
    "\n",
    "print(\"FNR = {:.4f}%, FPR = {:.4f}%\".format(fnr_cc * 100, fpr_cc * 100))\n",
    "print(\"ROC AUC = {:.4f}\".format(roc_auc_cc))\n",
    "print(\"sensitivity = {:.4f}%, specificity = {:.4f}%\".format(sensitivity_cc * 100, specificity_cc * 100))"
   ]
  },
  {
   "cell_type": "markdown",
   "id": "789cb89b",
   "metadata": {},
   "source": [
    "# Cost-sensitive learning"
   ]
  },
  {
   "cell_type": "code",
   "execution_count": 27,
   "id": "a08a48fa",
   "metadata": {},
   "outputs": [],
   "source": [
    "weights = np.linspace(1, 10, 10).astype(int)\n",
    "\n",
    "fnrs_cs = []\n",
    "fprs_cs = []\n",
    "roc_aucs_cs = []\n",
    "sensitivities_cs = []\n",
    "specificities_cs = []\n",
    "\n",
    "for weight in weights:\n",
    "    rf_cs = RandomForestClassifier(n_estimators=50, max_depth=14, random_state=seed, class_weight={0:1, 1:weight})\n",
    "    rf_cs.fit(X_train, y_train)\n",
    "    y_pred_cs = rf_cs.predict(X_test)\n",
    "    fnr_cs, fpr_cs, roc_auc_cs, sensitivity_cs, specificity_cs = model_metrics(y_test, y_pred_cs)\n",
    "    fnrs_cs.append(fnr_cs)\n",
    "    fprs_cs.append(fpr_cs)\n",
    "    roc_aucs_cs.append(roc_auc_cs)\n",
    "    sensitivities_cs.append(sensitivity_cs)\n",
    "    specificities_cs.append(specificity_cs)"
   ]
  },
  {
   "cell_type": "code",
   "execution_count": 28,
   "id": "764b3cf0",
   "metadata": {},
   "outputs": [
    {
     "name": "stdout",
     "output_type": "stream",
     "text": [
      "FNR = 15.9236%, FPR = 0.0043%\n",
      "ROC AUC = 0.9204\n",
      "sensitivity = 84.0764%, specificity = 99.8595%\n",
      "Best weight = 1.00\n"
     ]
    },
    {
     "data": {
      "text/plain": [
       "array([[  132,    25],\n",
       "       [    4, 93826]], dtype=int64)"
      ]
     },
     "execution_count": 28,
     "metadata": {},
     "output_type": "execute_result"
    }
   ],
   "source": [
    "min_fnr = 100\n",
    "best_param = 0\n",
    "for i in range(len(fnrs_cs)):\n",
    "    if (fnrs_cs[i] * 100 < 0.5 and fnrs_cs[i] < min_fnr):\n",
    "        min_fnr = fnrs_cs[i]\n",
    "        best_param = i\n",
    "        \n",
    "print(\"FNR = {:.4f}%, FPR = {:.4f}%\".format(fnrs_cs[best_param] * 100, fprs_cs[best_param] * 100))\n",
    "print(\"ROC AUC = {:.4f}\".format(roc_aucs_cs[best_param]))\n",
    "print(\"sensitivity = {:.4f}%, specificity = {:.4f}%\".format(sensitivities_cs[best_param] * 100, specificities_cs[best_param] * 100))\n",
    "\n",
    "print(\"Best weight = {:.2f}\".format(weights[best_param]))\n",
    "\n",
    "best_p = weights[best_param]\n",
    "\n",
    "rf_cs = RandomForestClassifier(n_estimators=50, max_depth=14, random_state=seed, class_weight={0:1, 1:best_p})\n",
    "rf_cs.fit(X_train, y_train)\n",
    "y_pred_best = rf_cs.predict(X_test)\n",
    "\n",
    "cm = confusion_matrix(y_test, y_pred_best, labels=[1,0])\n",
    "cm"
   ]
  },
  {
   "cell_type": "code",
   "execution_count": 29,
   "id": "5ebaf4b0",
   "metadata": {},
   "outputs": [
    {
     "data": {
      "image/png": "[encoded data removed]",
      "text/plain": [
       "<Figure size 500x500 with 1 Axes>"
      ]
     },
     "metadata": {},
     "output_type": "display_data"
    }
   ],
   "source": [
    "resultPlot('weight', weights, fnrs_cs, fprs_cs, roc_aucs_cs, sensitivities_cs, specificities_cs, marker='.')"
   ]
  }
 ],
 "metadata": {
  "kernelspec": {
   "display_name": "Python 3 (ipykernel)",
   "language": "python",
   "name": "python3"
  },
  "language_info": {
   "codemirror_mode": {
    "name": "ipython",
    "version": 3
   },
   "file_extension": ".py",
   "mimetype": "text/x-python",
   "name": "python",
   "nbconvert_exporter": "python",
   "pygments_lexer": "ipython3",
   "version": "3.8.10"
  }
 },
 "nbformat": 4,
 "nbformat_minor": 5
}
