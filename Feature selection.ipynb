{
 "cells": [
  {
   "cell_type": "code",
   "execution_count": 1,
   "id": "f45efac6",
   "metadata": {},
   "outputs": [],
   "source": [
    "import pandas as pd\n",
    "import numpy as np\n",
    "\n",
    "from sklearn.model_selection import train_test_split\n",
    "from sklearn.feature_selection import RFE\n",
    "from sklearn.ensemble import RandomForestClassifier\n",
    "\n",
    "from sklearn.metrics import confusion_matrix\n",
    "from sklearn.metrics import roc_curve\n",
    "from sklearn.metrics import roc_auc_score\n",
    "\n",
    "from sklearn.preprocessing import StandardScaler\n",
    "\n",
    "import matplotlib.pyplot as plt\n",
    "\n",
    "seed=331"
   ]
  },
  {
   "cell_type": "code",
   "execution_count": 2,
   "id": "7825b322",
   "metadata": {},
   "outputs": [],
   "source": [
    "def fnr_calc(y_test, y_pred):\n",
    "    tp, fn, fp, tn = confusion_matrix(y_test, y_pred, labels=[1,0]).ravel()\n",
    "    return fn / (fn + tp)\n",
    "\n",
    "def fpr_calc(y_test, y_pred):\n",
    "    tp, fn, fp, tn = confusion_matrix(y_test, y_pred, labels=[1,0]).ravel()\n",
    "    return fp / (fp + tn)\n",
    "\n",
    "\n",
    "\n",
    "def model_metrics(y_test, y_pred):\n",
    "    tp, fn, fp, tn = confusion_matrix(y_test, y_pred, labels=[1,0]).ravel()\n",
    "    \n",
    "    fnr = fn / (fn + tp)\n",
    "    fpr = fp / (fp + tn)\n",
    "    \n",
    "    roc_auc = roc_auc_score(y_test, y_pred)\n",
    "    \n",
    "    sensitivity = tp / (tp + fn)\n",
    "    specificity = tn / (tp + tn)\n",
    "    \n",
    "    return fnr, fpr, roc_auc, sensitivity, specificity"
   ]
  },
  {
   "cell_type": "markdown",
   "id": "938519cb",
   "metadata": {},
   "source": [
    "# Data preparation"
   ]
  },
  {
   "cell_type": "code",
   "execution_count": 3,
   "id": "706bd8b8",
   "metadata": {},
   "outputs": [
    {
     "data": {
      "text/html": [
       "<div>\n",
       "<style scoped>\n",
       "    .dataframe tbody tr th:only-of-type {\n",
       "        vertical-align: middle;\n",
       "    }\n",
       "\n",
       "    .dataframe tbody tr th {\n",
       "        vertical-align: top;\n",
       "    }\n",
       "\n",
       "    .dataframe thead th {\n",
       "        text-align: right;\n",
       "    }\n",
       "</style>\n",
       "<table border=\"1\" class=\"dataframe\">\n",
       "  <thead>\n",
       "    <tr style=\"text-align: right;\">\n",
       "      <th></th>\n",
       "      <th>Time</th>\n",
       "      <th>V1</th>\n",
       "      <th>V2</th>\n",
       "      <th>V3</th>\n",
       "      <th>V4</th>\n",
       "      <th>V5</th>\n",
       "      <th>V6</th>\n",
       "      <th>V7</th>\n",
       "      <th>V8</th>\n",
       "      <th>V9</th>\n",
       "      <th>...</th>\n",
       "      <th>V21</th>\n",
       "      <th>V22</th>\n",
       "      <th>V23</th>\n",
       "      <th>V24</th>\n",
       "      <th>V25</th>\n",
       "      <th>V26</th>\n",
       "      <th>V27</th>\n",
       "      <th>V28</th>\n",
       "      <th>Amount</th>\n",
       "      <th>Class</th>\n",
       "    </tr>\n",
       "  </thead>\n",
       "  <tbody>\n",
       "    <tr>\n",
       "      <th>0</th>\n",
       "      <td>0.0</td>\n",
       "      <td>-1.359807</td>\n",
       "      <td>-0.072781</td>\n",
       "      <td>2.536347</td>\n",
       "      <td>1.378155</td>\n",
       "      <td>-0.338321</td>\n",
       "      <td>0.462388</td>\n",
       "      <td>0.239599</td>\n",
       "      <td>0.098698</td>\n",
       "      <td>0.363787</td>\n",
       "      <td>...</td>\n",
       "      <td>-0.018307</td>\n",
       "      <td>0.277838</td>\n",
       "      <td>-0.110474</td>\n",
       "      <td>0.066928</td>\n",
       "      <td>0.128539</td>\n",
       "      <td>-0.189115</td>\n",
       "      <td>0.133558</td>\n",
       "      <td>-0.021053</td>\n",
       "      <td>149.62</td>\n",
       "      <td>0</td>\n",
       "    </tr>\n",
       "    <tr>\n",
       "      <th>1</th>\n",
       "      <td>0.0</td>\n",
       "      <td>1.191857</td>\n",
       "      <td>0.266151</td>\n",
       "      <td>0.166480</td>\n",
       "      <td>0.448154</td>\n",
       "      <td>0.060018</td>\n",
       "      <td>-0.082361</td>\n",
       "      <td>-0.078803</td>\n",
       "      <td>0.085102</td>\n",
       "      <td>-0.255425</td>\n",
       "      <td>...</td>\n",
       "      <td>-0.225775</td>\n",
       "      <td>-0.638672</td>\n",
       "      <td>0.101288</td>\n",
       "      <td>-0.339846</td>\n",
       "      <td>0.167170</td>\n",
       "      <td>0.125895</td>\n",
       "      <td>-0.008983</td>\n",
       "      <td>0.014724</td>\n",
       "      <td>2.69</td>\n",
       "      <td>0</td>\n",
       "    </tr>\n",
       "    <tr>\n",
       "      <th>2</th>\n",
       "      <td>1.0</td>\n",
       "      <td>-1.358354</td>\n",
       "      <td>-1.340163</td>\n",
       "      <td>1.773209</td>\n",
       "      <td>0.379780</td>\n",
       "      <td>-0.503198</td>\n",
       "      <td>1.800499</td>\n",
       "      <td>0.791461</td>\n",
       "      <td>0.247676</td>\n",
       "      <td>-1.514654</td>\n",
       "      <td>...</td>\n",
       "      <td>0.247998</td>\n",
       "      <td>0.771679</td>\n",
       "      <td>0.909412</td>\n",
       "      <td>-0.689281</td>\n",
       "      <td>-0.327642</td>\n",
       "      <td>-0.139097</td>\n",
       "      <td>-0.055353</td>\n",
       "      <td>-0.059752</td>\n",
       "      <td>378.66</td>\n",
       "      <td>0</td>\n",
       "    </tr>\n",
       "    <tr>\n",
       "      <th>3</th>\n",
       "      <td>1.0</td>\n",
       "      <td>-0.966272</td>\n",
       "      <td>-0.185226</td>\n",
       "      <td>1.792993</td>\n",
       "      <td>-0.863291</td>\n",
       "      <td>-0.010309</td>\n",
       "      <td>1.247203</td>\n",
       "      <td>0.237609</td>\n",
       "      <td>0.377436</td>\n",
       "      <td>-1.387024</td>\n",
       "      <td>...</td>\n",
       "      <td>-0.108300</td>\n",
       "      <td>0.005274</td>\n",
       "      <td>-0.190321</td>\n",
       "      <td>-1.175575</td>\n",
       "      <td>0.647376</td>\n",
       "      <td>-0.221929</td>\n",
       "      <td>0.062723</td>\n",
       "      <td>0.061458</td>\n",
       "      <td>123.50</td>\n",
       "      <td>0</td>\n",
       "    </tr>\n",
       "    <tr>\n",
       "      <th>4</th>\n",
       "      <td>2.0</td>\n",
       "      <td>-1.158233</td>\n",
       "      <td>0.877737</td>\n",
       "      <td>1.548718</td>\n",
       "      <td>0.403034</td>\n",
       "      <td>-0.407193</td>\n",
       "      <td>0.095921</td>\n",
       "      <td>0.592941</td>\n",
       "      <td>-0.270533</td>\n",
       "      <td>0.817739</td>\n",
       "      <td>...</td>\n",
       "      <td>-0.009431</td>\n",
       "      <td>0.798278</td>\n",
       "      <td>-0.137458</td>\n",
       "      <td>0.141267</td>\n",
       "      <td>-0.206010</td>\n",
       "      <td>0.502292</td>\n",
       "      <td>0.219422</td>\n",
       "      <td>0.215153</td>\n",
       "      <td>69.99</td>\n",
       "      <td>0</td>\n",
       "    </tr>\n",
       "  </tbody>\n",
       "</table>\n",
       "<p>5 rows × 31 columns</p>\n",
       "</div>"
      ],
      "text/plain": [
       "   Time        V1        V2        V3        V4        V5        V6        V7  \\\n",
       "0   0.0 -1.359807 -0.072781  2.536347  1.378155 -0.338321  0.462388  0.239599   \n",
       "1   0.0  1.191857  0.266151  0.166480  0.448154  0.060018 -0.082361 -0.078803   \n",
       "2   1.0 -1.358354 -1.340163  1.773209  0.379780 -0.503198  1.800499  0.791461   \n",
       "3   1.0 -0.966272 -0.185226  1.792993 -0.863291 -0.010309  1.247203  0.237609   \n",
       "4   2.0 -1.158233  0.877737  1.548718  0.403034 -0.407193  0.095921  0.592941   \n",
       "\n",
       "         V8        V9  ...       V21       V22       V23       V24       V25  \\\n",
       "0  0.098698  0.363787  ... -0.018307  0.277838 -0.110474  0.066928  0.128539   \n",
       "1  0.085102 -0.255425  ... -0.225775 -0.638672  0.101288 -0.339846  0.167170   \n",
       "2  0.247676 -1.514654  ...  0.247998  0.771679  0.909412 -0.689281 -0.327642   \n",
       "3  0.377436 -1.387024  ... -0.108300  0.005274 -0.190321 -1.175575  0.647376   \n",
       "4 -0.270533  0.817739  ... -0.009431  0.798278 -0.137458  0.141267 -0.206010   \n",
       "\n",
       "        V26       V27       V28  Amount  Class  \n",
       "0 -0.189115  0.133558 -0.021053  149.62      0  \n",
       "1  0.125895 -0.008983  0.014724    2.69      0  \n",
       "2 -0.139097 -0.055353 -0.059752  378.66      0  \n",
       "3 -0.221929  0.062723  0.061458  123.50      0  \n",
       "4  0.502292  0.219422  0.215153   69.99      0  \n",
       "\n",
       "[5 rows x 31 columns]"
      ]
     },
     "execution_count": 3,
     "metadata": {},
     "output_type": "execute_result"
    }
   ],
   "source": [
    "dataframe = pd.read_csv(\"./data/creditcard.csv\")\n",
    "\n",
    "columns = dataframe.columns.drop('Class')\n",
    "\n",
    "dataframe.head(5)"
   ]
  },
  {
   "cell_type": "code",
   "execution_count": 4,
   "id": "9054c6e2",
   "metadata": {},
   "outputs": [],
   "source": [
    "scaled_dataframe = dataframe.copy().drop(['Class'],axis=1)\n",
    "\n",
    "transformer = StandardScaler()\n",
    "\n",
    "transformer.fit(scaled_dataframe)\n",
    "\n",
    "scaled_dataframe = transformer.transform(scaled_dataframe)\n",
    "scaled_dataframe = pd.DataFrame(scaled_dataframe, columns=columns)"
   ]
  },
  {
   "cell_type": "code",
   "execution_count": 53,
   "id": "55000b53",
   "metadata": {},
   "outputs": [
    {
     "name": "stdout",
     "output_type": "stream",
     "text": [
      "train rows: 190820, test rows: 93987\n"
     ]
    }
   ],
   "source": [
    "X = scaled_dataframe\n",
    "y = dataframe.Class\n",
    "\n",
    "X_train, X_test, y_train, y_test = train_test_split(X,y,random_state=seed, test_size=0.33)\n",
    "\n",
    "print(\"train rows: {}, test rows: {}\".format(X_train.shape[0], X_test.shape[0]))"
   ]
  },
  {
   "cell_type": "markdown",
   "id": "6b72fa6e",
   "metadata": {},
   "source": [
    "# RFE"
   ]
  },
  {
   "cell_type": "code",
   "execution_count": 6,
   "id": "72766c0e",
   "metadata": {},
   "outputs": [
    {
     "name": "stdout",
     "output_type": "stream",
     "text": [
      "train rows: 190820, test rows: 93987\n"
     ]
    },
    {
     "data": {
      "text/plain": [
       "Index(['V10', 'V11', 'V12', 'V14', 'V17'], dtype='object')"
      ]
     },
     "execution_count": 6,
     "metadata": {},
     "output_type": "execute_result"
    }
   ],
   "source": [
    "rfe = RFE(estimator=RandomForestClassifier(), n_features_to_select=5, step=3)\n",
    "\n",
    "X_rfe = pd.DataFrame(rfe.fit_transform(X, y))\n",
    "X_rfe.columns = rfe.get_feature_names_out()\n",
    "\n",
    "X_train, X_test, y_train, y_test = train_test_split(X_rfe, y, random_state=seed, test_size=0.33)\n",
    "\n",
    "print(\"train rows: {}, test rows: {}\".format(X_train.shape[0], X_test.shape[0]))\n",
    "\n",
    "X_rfe.columns"
   ]
  },
  {
   "cell_type": "markdown",
   "id": "2c48bf8b",
   "metadata": {},
   "source": [
    "### > MLP"
   ]
  },
  {
   "cell_type": "code",
   "execution_count": 7,
   "id": "385854e1",
   "metadata": {},
   "outputs": [
    {
     "data": {
      "text/plain": [
       "0.9995956887654676"
      ]
     },
     "execution_count": 7,
     "metadata": {},
     "output_type": "execute_result"
    }
   ],
   "source": [
    "from sklearn.neural_network import MLPClassifier\n",
    "\n",
    "mlp = MLPClassifier(solver='adam', hidden_layer_sizes=[56, 62,], max_iter=250, batch_size=50, random_state = seed)\n",
    "mlp.fit(X_train,y_train)\n",
    "\n",
    "y_pred = mlp.predict(X_test)\n",
    "mlp.score(X_test, y_test)"
   ]
  },
  {
   "cell_type": "code",
   "execution_count": 8,
   "id": "37600a3c",
   "metadata": {},
   "outputs": [
    {
     "name": "stdout",
     "output_type": "stream",
     "text": [
      "FNR = 21.0191%, FPR = 0.0053%\n",
      "ROC AUC = 0.8949\n",
      "sensitivity = 78.9809%, specificity = 99.8680%\n"
     ]
    }
   ],
   "source": [
    "fnr, fpr, roc_auc, sensitivity, specificity = model_metrics(y_test, y_pred)\n",
    "\n",
    "print(\"FNR = {:.4f}%, FPR = {:.4f}%\".format(fnr * 100, fpr * 100))\n",
    "print(\"ROC AUC = {:.4f}\".format(roc_auc))\n",
    "print(\"sensitivity = {:.4f}%, specificity = {:.4f}%\".format(sensitivity * 100, specificity * 100))"
   ]
  },
  {
   "cell_type": "code",
   "execution_count": 9,
   "id": "14bf8947",
   "metadata": {},
   "outputs": [
    {
     "data": {
      "text/plain": [
       "array([[  124,    33],\n",
       "       [    5, 93825]], dtype=int64)"
      ]
     },
     "execution_count": 9,
     "metadata": {},
     "output_type": "execute_result"
    }
   ],
   "source": [
    "cm = confusion_matrix(y_test, y_pred, labels=[1,0])\n",
    "cm"
   ]
  },
  {
   "cell_type": "markdown",
   "id": "8aeb3a77",
   "metadata": {},
   "source": [
    "### > QDA"
   ]
  },
  {
   "cell_type": "code",
   "execution_count": 10,
   "id": "6d1ae196",
   "metadata": {},
   "outputs": [
    {
     "data": {
      "text/plain": [
       "0.9993403343015523"
      ]
     },
     "execution_count": 10,
     "metadata": {},
     "output_type": "execute_result"
    }
   ],
   "source": [
    "from sklearn.discriminant_analysis import QuadraticDiscriminantAnalysis\n",
    "\n",
    "qda = QuadraticDiscriminantAnalysis(reg_param=0.97, store_covariance=False)\n",
    "qda.fit(X_train,y_train)\n",
    "\n",
    "y_pred_qda = qda.predict(X_test)\n",
    "qda.score(X_test, y_test)"
   ]
  },
  {
   "cell_type": "code",
   "execution_count": 11,
   "id": "c2d4d861",
   "metadata": {},
   "outputs": [
    {
     "name": "stdout",
     "output_type": "stream",
     "text": [
      "FNR = 15.9236%, FPR = 0.0394%\n",
      "ROC AUC = 0.9202\n",
      "sensitivity = 84.0764%, specificity = 99.8595%\n"
     ]
    }
   ],
   "source": [
    "fnr_qda, fpr_qda, roc_auc_qda, sensitivity_qda, specificity_qda = model_metrics(y_test, y_pred_qda)\n",
    "\n",
    "print(\"FNR = {:.4f}%, FPR = {:.4f}%\".format(fnr_qda * 100, fpr_qda * 100))\n",
    "print(\"ROC AUC = {:.4f}\".format(roc_auc_qda))\n",
    "print(\"sensitivity = {:.4f}%, specificity = {:.4f}%\".format(sensitivity_qda * 100, specificity_qda * 100))"
   ]
  },
  {
   "cell_type": "code",
   "execution_count": 12,
   "id": "e808cc58",
   "metadata": {},
   "outputs": [
    {
     "data": {
      "text/plain": [
       "array([[  132,    25],\n",
       "       [   37, 93793]], dtype=int64)"
      ]
     },
     "execution_count": 12,
     "metadata": {},
     "output_type": "execute_result"
    }
   ],
   "source": [
    "cm_qda = confusion_matrix(y_test, y_pred_qda, labels=[1,0])\n",
    "cm_qda"
   ]
  },
  {
   "cell_type": "markdown",
   "id": "744aaf3d",
   "metadata": {},
   "source": [
    "### > Random Forest"
   ]
  },
  {
   "cell_type": "code",
   "execution_count": 13,
   "id": "552413d3",
   "metadata": {},
   "outputs": [
    {
     "data": {
      "text/plain": [
       "0.9996595273814464"
      ]
     },
     "execution_count": 13,
     "metadata": {},
     "output_type": "execute_result"
    }
   ],
   "source": [
    "from sklearn.ensemble import RandomForestClassifier\n",
    "\n",
    "rf = RandomForestClassifier(n_estimators=50, max_depth=14, random_state=seed)\n",
    "rf.fit(X_train,y_train)\n",
    "\n",
    "y_pred_rf = rf.predict(X_test)\n",
    "rf.score(X_test, y_test)"
   ]
  },
  {
   "cell_type": "code",
   "execution_count": 14,
   "id": "52162630",
   "metadata": {},
   "outputs": [
    {
     "name": "stdout",
     "output_type": "stream",
     "text": [
      "FNR = 17.1975%, FPR = 0.0053%\n",
      "ROC AUC = 0.9140\n",
      "sensitivity = 82.8025%, specificity = 99.8616%\n"
     ]
    }
   ],
   "source": [
    "fnr_rf, fpr_rf, roc_auc_rf, sensitivity_rf, specificity_rf = model_metrics(y_test, y_pred_rf)\n",
    "\n",
    "print(\"FNR = {:.4f}%, FPR = {:.4f}%\".format(fnr_rf * 100, fpr_rf * 100))\n",
    "print(\"ROC AUC = {:.4f}\".format(roc_auc_rf))\n",
    "print(\"sensitivity = {:.4f}%, specificity = {:.4f}%\".format(sensitivity_rf * 100, specificity_rf * 100))"
   ]
  },
  {
   "cell_type": "code",
   "execution_count": 15,
   "id": "64d18fe7",
   "metadata": {},
   "outputs": [
    {
     "data": {
      "text/plain": [
       "array([[  130,    27],\n",
       "       [    5, 93825]], dtype=int64)"
      ]
     },
     "execution_count": 15,
     "metadata": {},
     "output_type": "execute_result"
    }
   ],
   "source": [
    "cm_rf = confusion_matrix(y_test, y_pred_rf, labels=[1,0])\n",
    "cm_rf"
   ]
  },
  {
   "cell_type": "markdown",
   "id": "082082be",
   "metadata": {},
   "source": [
    "# Forward Linear Regression"
   ]
  },
  {
   "cell_type": "code",
   "execution_count": 20,
   "id": "99f606c2",
   "metadata": {},
   "outputs": [
    {
     "name": "stdout",
     "output_type": "stream",
     "text": [
      "train rows: 190820, test rows: 93987\n"
     ]
    },
    {
     "data": {
      "text/plain": [
       "Index(['V10', 'V11', 'V12', 'V14', 'V17'], dtype='object')"
      ]
     },
     "execution_count": 20,
     "metadata": {},
     "output_type": "execute_result"
    }
   ],
   "source": [
    "from sklearn.feature_selection import SequentialFeatureSelector\n",
    "from sklearn.linear_model import LogisticRegression\n",
    "\n",
    "flr = SequentialFeatureSelector(LogisticRegression(random_state=seed), direction='forward', n_features_to_select=5)\n",
    "X_flr = pd.DataFrame(flr.fit_transform(X, y))\n",
    "\n",
    "X_flr.columns = rfe.get_feature_names_out()\n",
    "\n",
    "X_train_flr, X_test_flr, y_train_flr, y_test_flr = train_test_split(X_flr, y, random_state=seed, test_size=0.33)\n",
    "\n",
    "print(\"train rows: {}, test rows: {}\".format(X_train_flr.shape[0], X_test_flr.shape[0]))\n",
    "\n",
    "X_flr.columns"
   ]
  },
  {
   "cell_type": "markdown",
   "id": "6c24ef05",
   "metadata": {},
   "source": [
    "### > MLP"
   ]
  },
  {
   "cell_type": "code",
   "execution_count": 21,
   "id": "a8b0a909",
   "metadata": {},
   "outputs": [
    {
     "data": {
      "text/plain": [
       "0.9995318501494888"
      ]
     },
     "execution_count": 21,
     "metadata": {},
     "output_type": "execute_result"
    }
   ],
   "source": [
    "mlp_flr = MLPClassifier(solver='adam', hidden_layer_sizes=[56, 62,], max_iter=250, batch_size=50, random_state = seed)\n",
    "mlp_flr.fit(X_train_flr,y_train_flr)\n",
    "\n",
    "y_pred_mlp_flr = mlp_flr.predict(X_test_flr)\n",
    "mlp_flr.score(X_test_flr, y_test_flr)"
   ]
  },
  {
   "cell_type": "code",
   "execution_count": 22,
   "id": "e2a9a5a6",
   "metadata": {},
   "outputs": [
    {
     "name": "stdout",
     "output_type": "stream",
     "text": [
      "FNR = 24.8408%, FPR = 0.0053%\n",
      "ROC AUC = 0.8758\n",
      "sensitivity = 75.1592%, specificity = 99.8744%\n"
     ]
    }
   ],
   "source": [
    "fnr_mlp_flr, fpr_mlp_flr, roc_auc_mlp_flr, sensitivity_mlp_flr, specificity_mlp_flr = model_metrics(y_test_flr, y_pred_mlp_flr)\n",
    "\n",
    "print(\"FNR = {:.4f}%, FPR = {:.4f}%\".format(fnr_mlp_flr * 100, fpr_mlp_flr * 100))\n",
    "print(\"ROC AUC = {:.4f}\".format(roc_auc_mlp_flr))\n",
    "print(\"sensitivity = {:.4f}%, specificity = {:.4f}%\".format(sensitivity_mlp_flr * 100, specificity_mlp_flr * 100))"
   ]
  },
  {
   "cell_type": "code",
   "execution_count": 23,
   "id": "8ef7fc64",
   "metadata": {},
   "outputs": [
    {
     "data": {
      "text/plain": [
       "array([[  118,    39],\n",
       "       [    5, 93825]], dtype=int64)"
      ]
     },
     "execution_count": 23,
     "metadata": {},
     "output_type": "execute_result"
    }
   ],
   "source": [
    "cm_mlp_flr = confusion_matrix(y_test_flr, y_pred_mlp_flr, labels=[1,0])\n",
    "cm_mlp_flr"
   ]
  },
  {
   "cell_type": "markdown",
   "id": "0bd8a9cc",
   "metadata": {},
   "source": [
    "### > QDA"
   ]
  },
  {
   "cell_type": "code",
   "execution_count": 24,
   "id": "f2f58e0d",
   "metadata": {},
   "outputs": [
    {
     "data": {
      "text/plain": [
       "0.9984572334471788"
      ]
     },
     "execution_count": 24,
     "metadata": {},
     "output_type": "execute_result"
    }
   ],
   "source": [
    "qda_flr = QuadraticDiscriminantAnalysis(reg_param=0.97, store_covariance=False)\n",
    "qda_flr.fit(X_train_flr,y_train_flr)\n",
    "\n",
    "y_pred_qda_flr = qda_flr.predict(X_test_flr)\n",
    "qda_flr.score(X_test_flr, y_test_flr)"
   ]
  },
  {
   "cell_type": "code",
   "execution_count": 25,
   "id": "7f6cec3f",
   "metadata": {},
   "outputs": [
    {
     "name": "stdout",
     "output_type": "stream",
     "text": [
      "FNR = 15.9236%, FPR = 0.1279%\n",
      "ROC AUC = 0.9197\n",
      "sensitivity = 84.0764%, specificity = 99.8593%\n"
     ]
    }
   ],
   "source": [
    "fnr_qda_flr, fpr_qda_flr, roc_auc_qda_flr, sensitivity_qda_flr, specificity_qda_flr = model_metrics(y_test_flr, y_pred_qda_flr)\n",
    "\n",
    "print(\"FNR = {:.4f}%, FPR = {:.4f}%\".format(fnr_qda_flr * 100, fpr_qda_flr * 100))\n",
    "print(\"ROC AUC = {:.4f}\".format(roc_auc_qda_flr))\n",
    "print(\"sensitivity = {:.4f}%, specificity = {:.4f}%\".format(sensitivity_qda_flr * 100, specificity_qda_flr * 100))"
   ]
  },
  {
   "cell_type": "code",
   "execution_count": 26,
   "id": "ce9deca8",
   "metadata": {},
   "outputs": [
    {
     "data": {
      "text/plain": [
       "array([[  132,    25],\n",
       "       [  120, 93710]], dtype=int64)"
      ]
     },
     "execution_count": 26,
     "metadata": {},
     "output_type": "execute_result"
    }
   ],
   "source": [
    "cm_qda_flr = confusion_matrix(y_test_flr, y_pred_qda_flr, labels=[1,0])\n",
    "cm_qda_flr"
   ]
  },
  {
   "cell_type": "markdown",
   "id": "9cdfeb36",
   "metadata": {},
   "source": [
    "### > Random Forest"
   ]
  },
  {
   "cell_type": "code",
   "execution_count": 27,
   "id": "9fccf744",
   "metadata": {},
   "outputs": [
    {
     "data": {
      "text/plain": [
       "0.9996701671507762"
      ]
     },
     "execution_count": 27,
     "metadata": {},
     "output_type": "execute_result"
    }
   ],
   "source": [
    "rf_flr = RandomForestClassifier(n_estimators=50, max_depth=14, random_state=seed)\n",
    "rf_flr.fit(X_train_flr,y_train_flr)\n",
    "\n",
    "y_pred_rf_flr = rf_flr.predict(X_test_flr)\n",
    "rf_flr.score(X_test_flr, y_test_flr)"
   ]
  },
  {
   "cell_type": "code",
   "execution_count": 28,
   "id": "ac985c32",
   "metadata": {},
   "outputs": [
    {
     "name": "stdout",
     "output_type": "stream",
     "text": [
      "FNR = 15.9236%, FPR = 0.0064%\n",
      "ROC AUC = 0.9204\n",
      "sensitivity = 84.0764%, specificity = 99.8595%\n"
     ]
    }
   ],
   "source": [
    "fnr_rf_flr, fpr_rf_flr, roc_auc_rf_flr, sensitivity_rf_flr, specificity_rf_flr = model_metrics(y_test_flr, y_pred_rf_flr)\n",
    "\n",
    "print(\"FNR = {:.4f}%, FPR = {:.4f}%\".format(fnr_rf_flr * 100, fpr_rf_flr * 100))\n",
    "print(\"ROC AUC = {:.4f}\".format(roc_auc_rf_flr))\n",
    "print(\"sensitivity = {:.4f}%, specificity = {:.4f}%\".format(sensitivity_rf_flr * 100, specificity_rf_flr * 100))"
   ]
  },
  {
   "cell_type": "code",
   "execution_count": 29,
   "id": "613bbf3c",
   "metadata": {},
   "outputs": [
    {
     "data": {
      "text/plain": [
       "array([[  132,    25],\n",
       "       [    6, 93824]], dtype=int64)"
      ]
     },
     "execution_count": 29,
     "metadata": {},
     "output_type": "execute_result"
    }
   ],
   "source": [
    "cm_rf_flr = confusion_matrix(y_test_flr, y_pred_rf_flr, labels=[1,0])\n",
    "cm_rf_flr"
   ]
  },
  {
   "cell_type": "markdown",
   "id": "1a445ae4",
   "metadata": {},
   "source": [
    "# PCA"
   ]
  },
  {
   "cell_type": "code",
   "execution_count": 75,
   "id": "f991345b",
   "metadata": {},
   "outputs": [
    {
     "name": "stdout",
     "output_type": "stream",
     "text": [
      "train rows: 190820, test rows: 93987\n",
      "New features num: 30\n"
     ]
    }
   ],
   "source": [
    "from sklearn.decomposition import PCA\n",
    "\n",
    "pca = PCA()\n",
    "pca.fit(X, y)\n",
    "X_pca = pca.transform(X)\n",
    "\n",
    "X_train_pca, X_test_pca, y_train_pca, y_test_pca = train_test_split(X_pca, y, random_state=seed, test_size=0.33)\n",
    "\n",
    "print(\"train rows: {}, test rows: {}\".format(X_train_pca.shape[0], X_test_pca.shape[0]))\n",
    "print(\"New features num: {}\".format(len(X_train_pca[0])))"
   ]
  },
  {
   "cell_type": "markdown",
   "id": "fbd1c040",
   "metadata": {},
   "source": [
    "### > MLP"
   ]
  },
  {
   "cell_type": "code",
   "execution_count": 55,
   "id": "d42118eb",
   "metadata": {},
   "outputs": [
    {
     "data": {
      "text/plain": [
       "0.9995105706108292"
      ]
     },
     "execution_count": 55,
     "metadata": {},
     "output_type": "execute_result"
    }
   ],
   "source": [
    "mlp_pca = MLPClassifier(solver='adam', hidden_layer_sizes=[56, 62,], max_iter=250, batch_size=50, random_state = seed)\n",
    "mlp_pca.fit(X_train_pca,y_train_pca)\n",
    "\n",
    "y_pred_mlp_pca = mlp_pca.predict(X_test_pca)\n",
    "mlp_pca.score(X_test_pca, y_test_pca)"
   ]
  },
  {
   "cell_type": "code",
   "execution_count": 56,
   "id": "8e8f5911",
   "metadata": {},
   "outputs": [
    {
     "name": "stdout",
     "output_type": "stream",
     "text": [
      "FNR = 21.0191%, FPR = 0.0139%\n",
      "ROC AUC = 0.8948\n",
      "sensitivity = 78.9809%, specificity = 99.8680%\n"
     ]
    }
   ],
   "source": [
    "fnr_mlp_pca, fpr_mlp_pca, roc_auc_mlp_pca, sensitivity_mlp_pca, specificity_mlp_pca = model_metrics(y_test_pca, y_pred_mlp_pca)\n",
    "\n",
    "print(\"FNR = {:.4f}%, FPR = {:.4f}%\".format(fnr_mlp_pca * 100, fpr_mlp_pca * 100))\n",
    "print(\"ROC AUC = {:.4f}\".format(roc_auc_mlp_pca))\n",
    "print(\"sensitivity = {:.4f}%, specificity = {:.4f}%\".format(sensitivity_mlp_pca * 100, specificity_mlp_pca * 100))"
   ]
  },
  {
   "cell_type": "code",
   "execution_count": 57,
   "id": "bd81be1a",
   "metadata": {},
   "outputs": [
    {
     "data": {
      "text/plain": [
       "array([[  124,    33],\n",
       "       [   13, 93817]], dtype=int64)"
      ]
     },
     "execution_count": 57,
     "metadata": {},
     "output_type": "execute_result"
    }
   ],
   "source": [
    "cm_mlp_pca = confusion_matrix(y_test_pca, y_pred_mlp_pca, labels=[1,0])\n",
    "cm_mlp_pca"
   ]
  },
  {
   "cell_type": "markdown",
   "id": "58456cf4",
   "metadata": {},
   "source": [
    "### > QDA"
   ]
  },
  {
   "cell_type": "code",
   "execution_count": 71,
   "id": "d6d7f5e9",
   "metadata": {},
   "outputs": [
    {
     "data": {
      "text/plain": [
       "0.9948929107216955"
      ]
     },
     "execution_count": 71,
     "metadata": {},
     "output_type": "execute_result"
    }
   ],
   "source": [
    "qda_pca = QuadraticDiscriminantAnalysis(reg_param=0.97, store_covariance=False)\n",
    "qda_pca.fit(X_train_pca,y_train_pca)\n",
    "\n",
    "y_pred_qda_pca = qda_pca.predict(X_test_pca)\n",
    "qda_pca.score(X_test_pca, y_test_pca)"
   ]
  },
  {
   "cell_type": "code",
   "execution_count": 59,
   "id": "6ea8d750",
   "metadata": {},
   "outputs": [
    {
     "name": "stdout",
     "output_type": "stream",
     "text": [
      "FNR = 14.0127%, FPR = 0.4881%\n",
      "ROC AUC = 0.9275\n",
      "sensitivity = 85.9873%, specificity = 99.8556%\n"
     ]
    }
   ],
   "source": [
    "fnr_qda_pca, fpr_qda_pca, roc_auc_qda_pca, sensitivity_qda_pca, specificity_qda_pca = model_metrics(y_test_pca, y_pred_qda_pca)\n",
    "\n",
    "print(\"FNR = {:.4f}%, FPR = {:.4f}%\".format(fnr_qda_pca * 100, fpr_qda_pca * 100))\n",
    "print(\"ROC AUC = {:.4f}\".format(roc_auc_qda_pca))\n",
    "print(\"sensitivity = {:.4f}%, specificity = {:.4f}%\".format(sensitivity_qda_pca * 100, specificity_qda_pca * 100))"
   ]
  },
  {
   "cell_type": "code",
   "execution_count": 60,
   "id": "7483395c",
   "metadata": {},
   "outputs": [
    {
     "data": {
      "text/plain": [
       "array([[  135,    22],\n",
       "       [  458, 93372]], dtype=int64)"
      ]
     },
     "execution_count": 60,
     "metadata": {},
     "output_type": "execute_result"
    }
   ],
   "source": [
    "cm_qda_pca = confusion_matrix(y_test_pca, y_pred_qda_pca, labels=[1,0])\n",
    "cm_qda_pca"
   ]
  },
  {
   "cell_type": "markdown",
   "id": "84bc35c1",
   "metadata": {},
   "source": [
    "### > Random Forest"
   ]
  },
  {
   "cell_type": "code",
   "execution_count": 61,
   "id": "b6d55503",
   "metadata": {},
   "outputs": [
    {
     "data": {
      "text/plain": [
       "0.9996382478427868"
      ]
     },
     "execution_count": 61,
     "metadata": {},
     "output_type": "execute_result"
    }
   ],
   "source": [
    "rf_pca = RandomForestClassifier(n_estimators=50, max_depth=14, random_state=seed)\n",
    "rf_pca.fit(X_train_pca,y_train_pca)\n",
    "\n",
    "y_pred_rf_pca = rf_pca.predict(X_test_pca)\n",
    "rf_pca.score(X_test_pca, y_test_pca)"
   ]
  },
  {
   "cell_type": "code",
   "execution_count": 62,
   "id": "9db23ea4",
   "metadata": {},
   "outputs": [
    {
     "name": "stdout",
     "output_type": "stream",
     "text": [
      "FNR = 19.7452%, FPR = 0.0032%\n",
      "ROC AUC = 0.9013\n",
      "sensitivity = 80.2548%, specificity = 99.8659%\n"
     ]
    }
   ],
   "source": [
    "fnr_rf_pca, fpr_rf_pca, roc_auc_rf_pca, sensitivity_rf_pca, specificity_rf_pca = model_metrics(y_test_pca, y_pred_rf_pca)\n",
    "\n",
    "print(\"FNR = {:.4f}%, FPR = {:.4f}%\".format(fnr_rf_pca * 100, fpr_rf_pca * 100))\n",
    "print(\"ROC AUC = {:.4f}\".format(roc_auc_rf_pca))\n",
    "print(\"sensitivity = {:.4f}%, specificity = {:.4f}%\".format(sensitivity_rf_pca * 100, specificity_rf_pca * 100))"
   ]
  },
  {
   "cell_type": "code",
   "execution_count": 63,
   "id": "83fecfcb",
   "metadata": {},
   "outputs": [
    {
     "data": {
      "text/plain": [
       "array([[  126,    31],\n",
       "       [    3, 93827]], dtype=int64)"
      ]
     },
     "execution_count": 63,
     "metadata": {},
     "output_type": "execute_result"
    }
   ],
   "source": [
    "cm_rf_pca = confusion_matrix(y_test_pca, y_pred_rf_pca, labels=[1,0])\n",
    "cm_rf_pca"
   ]
  },
  {
   "cell_type": "code",
   "execution_count": null,
   "id": "2c848bb3",
   "metadata": {},
   "outputs": [],
   "source": []
  }
 ],
 "metadata": {
  "kernelspec": {
   "display_name": "Python 3 (ipykernel)",
   "language": "python",
   "name": "python3"
  },
  "language_info": {
   "codemirror_mode": {
    "name": "ipython",
    "version": 3
   },
   "file_extension": ".py",
   "mimetype": "text/x-python",
   "name": "python",
   "nbconvert_exporter": "python",
   "pygments_lexer": "ipython3",
   "version": "3.8.10"
  }
 },
 "nbformat": 4,
 "nbformat_minor": 5
}
